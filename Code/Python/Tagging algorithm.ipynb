{
 "cells": [
  {
   "cell_type": "code",
   "execution_count": 108,
   "metadata": {
    "collapsed": true
   },
   "outputs": [],
   "source": [
    "import pyodbc\n",
    "import pandas as pd\n",
    "import math\n",
    "\n",
    "con = pyodbc.connect('DRIVER={SQL Server};SERVER=localhost;DATABASE=TASMC_ICU_Intensix')\n",
    "cursor = con.cursor()"
   ]
  },
  {
   "cell_type": "code",
   "execution_count": 106,
   "metadata": {
    "collapsed": false
   },
   "outputs": [],
   "source": [
    "sql = \"SELECT [PatientID],[Time] \\\n",
    "    ,MAX( CASE WHEN [ParameterID] in ('4704', \\\n",
    "                                       '6636', \\\n",
    "                                       '6637', \\\n",
    "                                       '7719', \\\n",
    "                                       '8417', \\\n",
    "                                       '8719', \\\n",
    "                                       '8720', \\\n",
    "                                       '9630', \\\n",
    "                                       '10997') THEN [Value] ELSE NULL END) HR \\\n",
    "    ,MAX( CASE WHEN [ParameterID] in ('4727', \\\n",
    "                                      '6627', \\\n",
    "                                      '6628', \\\n",
    "                                      '9231', \\\n",
    "                                      '9434', \\\n",
    "                                      '9474') THEN [Value]  ELSE NULL END) ArtBPS \\\n",
    "    ,MAX( CASE WHEN [ParameterID] in ('5433', \\\n",
    "                                      '9472', \\\n",
    "                                      '10825', \\\n",
    "                                      '10999', \\\n",
    "                                      '11084') THEN [Value]  ELSE NULL END) ArtBPM \\\n",
    "    ,MAX( CASE WHEN [ParameterID] in ('4721', \\\n",
    "                                      '5532', \\\n",
    "                                      '5644', \\\n",
    "                                      '5945', \\\n",
    "                                      '5952', \\\n",
    "                                      '6380', \\\n",
    "                                      '7104') THEN [Value]  ELSE NULL END) CVP \\\n",
    "    ,MAX( CASE WHEN [ParameterID] in ('4717','9649') THEN [Value] ELSE NULL END) PAPD \\\n",
    "    ,MAX( CASE WHEN [ParameterID] in ('4612','11017') THEN [Value]  ELSE NULL END ) RR_total \\\n",
    "    ,MAX( CASE WHEN [ParameterID] in ('7295','11016') THEN [Value]  ELSE NULL END ) RR_mandatory \\\n",
    "    ,MAX( CASE WHEN [ParameterID] in ('4631') THEN [Value]  ELSE NULL END ) Spo2 \\\n",
    "    ,MAX( CASE WHEN [ParameterID] in ('4960') THEN [Value]  ELSE NULL END ) ST1 \\\n",
    "    ,MAX( CASE WHEN [ParameterID] in ('4961') THEN [Value]  ELSE NULL END ) ST2 \\\n",
    "    ,MAX( CASE WHEN [ParameterID] in ('4962') THEN [Value]  ELSE NULL END ) ST3 \\\n",
    "    ,MAX( CASE WHEN [ParameterID] in ('4611') THEN [Value]  ELSE NULL END ) Fio2 \\\n",
    "    ,MAX( CASE WHEN [ParameterID] in ('6173') THEN [Value]  ELSE NULL END ) NiBPM \\\n",
    "    ,MAX( CASE WHEN [ParameterID] in ('6934') THEN [Value]  ELSE NULL END ) BIS \\\n",
    "    ,MAX( CASE WHEN [ParameterID] in ('4726', '8420') THEN [Value]  ELSE NULL END ) NiBPS \\\n",
    "    FROM  [TASMC_ICU_Intensix].[dbo].[Signals] \\\n",
    "    WHERE  [TASMC_ICU_Intensix].[dbo].[Signals].[Param_Type] = ' HR ArtBPS ArtBPM CVP PAPD RR_total RR_mandatory Spo2 ST1 ST2 ST3 Fio2'\\\n",
    "    GROUP BY [PatientID], [Time];\" \n",
    "df=pd.read_sql(sql, con)   "
   ]
  },
  {
   "cell_type": "code",
   "execution_count": 107,
   "metadata": {
    "collapsed": false
   },
   "outputs": [
    {
     "data": {
      "text/plain": [
       "126523"
      ]
     },
     "execution_count": 107,
     "metadata": {},
     "output_type": "execute_result"
    }
   ],
   "source": [
    "df=df.sort_values(by=['PatientID','Time'], ascending=[True,True])\n",
    "len(df)"
   ]
  },
  {
   "cell_type": "code",
   "execution_count": 102,
   "metadata": {
    "collapsed": false
   },
   "outputs": [],
   "source": [
    "#Add column:\n",
    "df['Tag'] = pd.Series(0, index=df.index)\n",
    "df['Type'] = pd.Series('NULL', index=df.index)"
   ]
  },
  {
   "cell_type": "code",
   "execution_count": 103,
   "metadata": {
    "collapsed": false
   },
   "outputs": [],
   "source": [
    "#change units:\n",
    "df.ix[:,'CVP']=df.ix[:,'CVP']/133\n",
    "df.ix[:,'ArtBPM']=df.ix[:,'ArtBPM']/133\n",
    "df.ix[:,'ArtBPS']=df.ix[:,'ArtBPS']/133\n",
    "df.ix[:,'PAPD']=df.ix[:,'PAPD']/133\n",
    "df.ix[:,'NiBPM']=df.ix[:,'NiBPM']/133\n",
    "\n",
    "#df.ix[:,'NiBPM']=df.ix[:,'NiBPM']/133"
   ]
  },
  {
   "cell_type": "code",
   "execution_count": 13,
   "metadata": {
    "collapsed": false
   },
   "outputs": [],
   "source": [
    "for i in range(len(df.index)):\n",
    "    Mtype=''\n",
    "    Tag=0\n",
    "    #Hypovolemia 1 or 2\n",
    "    if df.ix[i,'CVP'] is not None and df.ix[i,'ArtBPM'] is not None:\n",
    "        if not math.isnan(df.ix[i,'ArtBPM']) and not math.isnan(df.ix[i,'CVP']):\n",
    "            if df.ix[i,'ArtBPM']<50 and df.ix[i,'CVP']<5 and df.ix[i,'CVP']>-10:\n",
    "                Mtype =Mtype+', Hypovolemia 1 or 2'\n",
    "                Tag=1\n",
    "    #Hypovolemia 3\n",
    "    if df.ix[i,'ArtBPM'] is not None:\n",
    "        if df.ix[i,'ArtBPM']<50:\n",
    "                Mtype =Mtype+', Hypovolemia 3'\n",
    "                Tag=1\n",
    "    #Hypovolemia 4\n",
    "    if df.ix[i,'CVP'] is not None and df.ix[i,'NiBPM'] is not None:\n",
    "        if not math.isnan(df.ix[i,'NiBPM']) and not math.isnan(df.ix[i,'CVP']):\n",
    "            if df.ix[i,'NiBPM']<50 and df.ix[i,'CVP']<5 and df.ix[i,'CVP']>-10:\n",
    "                Mtype =Mtype+', Hypovolemia 4'\n",
    "                Tag=1\n",
    "    #LV shock 1 \n",
    "    if df.ix[i,'CVP'] is not None and df.ix[i,'PAPD'] is not None and df.ix[i,'ArtBPS'] is not None:\n",
    "        if not math.isnan(df.ix[i,'PAPD']) and not math.isnan(df.ix[i,'CVP']) and not math.isnan(df.ix[i,'ArtBPS']):\n",
    "            if df.ix[i,'ArtBPS']<78 and df.ix[i,'CVP']>16 and df.ix[i,'CVP']<35 and df.ix[i,'PAPD']>16 and df.ix[i,'PAPD']<60:\n",
    "                Mtype = Mtype +', LV shock 1'\n",
    "                Tag=1\n",
    "    #LV shock 2\n",
    "    if df.ix[i,'CVP'] is not None and df.ix[i,'ArtBPS'] is not None:\n",
    "        if not math.isnan(df.ix[i,'ArtBPS']) and not math.isnan(df.ix[i,'CVP']):\n",
    "            if df.ix[i,'ArtBPS']<78 and df.ix[i,'CVP']<35 and df.ix[i,'CVP']>16:\n",
    "                Mtype =Mtype+', LV shock 2'\n",
    "                Tag=1 \n",
    "    #Agitation 1 \n",
    "    if df.ix[i,'HR'] is not None and df.ix[i,'BIS'] is not None and df.ix[i,'ArtBPS'] is not None and df.ix[i,'NiBPS'] is not None:\n",
    "        if not math.isnan(df.ix[i,'HR']) and not math.isnan(df.ix[i,'BIS']) and not math.isnan(df.ix[i,'ArtBPS']) and not math.isnan(df.ix[i,'NiBPS']):\n",
    "            if df.ix[i,'BIS']>80 and df.ix[i,'HR']>110 and (df.ix[i,'ArtBPS']>140 | df.ix[i,'NiBPS']>140):\n",
    "                Mtype = Mtype +', Agitation 1'\n",
    "                Tag=1\n",
    "    #Agitation 2 \n",
    "    if df.ix[i,'RR_total'] is not None and df.ix[i,'RR_mandatory'] is not None and df.ix[i,'HR'] is not None and df.ix[i,'BIS'] is not None and df.ix[i,'ArtBPS'] is not None and df.ix[i,'NiBPS'] is not None:\n",
    "        if df.ix[i,'RR_total'] is not None and not math.isnan(df.ix[i,'RR_mandatory']) and not math.isnan(df.ix[i,'HR']) and not math.isnan(df.ix[i,'BIS']) and not math.isnan(df.ix[i,'ArtBPS']) and not math.isnan(df.ix[i,'NiBPS']):\n",
    "            if df.ix[i,'BIS']>80 and df.ix[i,'HR']>110 and (df.ix[i,'ArtBPS']>140 | df.ix[i,'NiBPS']>140) and (df.ix[i,'RR_mandatory']<df.ix[i,'RR_total'] | df.ix[i,'RR_total']>25):\n",
    "                Mtype = Mtype +', Agitation 2'\n",
    "                Tag=1\n",
    "    #Bradycardia 1\n",
    "    if df.ix[i,'HR'] is not None:\n",
    "        if not math.isnan(df.ix[i,'HR']):\n",
    "            if df.ix[i,'HR']<45:\n",
    "                Mtype = Mtype +', Bradycardia 1' \n",
    "                Tag=1\n",
    "    #Bradycardia Hypotension\n",
    "    if df.ix[i,'HR'] is not None and df.ix[i,'ArtBPS'] is not None:\n",
    "        if not math.isnan(df.ix[i,'HR']) and not math.isnan(df.ix[i,'ArtBPS']):\n",
    "            if df.ix[i,'HR']<45 and df.ix[i,'ArtBPS']<78:\n",
    "                Mtype = Mtype +', Bradycardia Hypotension' \n",
    "                Tag=1\n",
    "    #Tachycardia Hypotension\n",
    "    if df.ix[i,'HR'] is not None and df.ix[i,'ArtBPS'] is not None:\n",
    "        if not math.isnan(df.ix[i,'HR']) and not math.isnan(df.ix[i,'ArtBPS']):\n",
    "            if df.ix[i,'HR']>120 and df.ix[i,'ArtBPS']<78:\n",
    "                Mtype = Mtype +', Tachycardia'\n",
    "                Tag=1\n",
    "    #Tachycardia\n",
    "    if df.ix[i,'HR'] is not None:\n",
    "        if not math.isnan(df.ix[i,'HR']):\n",
    "            if df.ix[i,'HR']>120:\n",
    "                Mtype = Mtype +', Tachycardia'\n",
    "                Tag=1\n",
    "    df.ix[i,'Type']=Mtype\n",
    "    df.ix[i,'Tag']=Tag             \n"
   ]
  },
  {
   "cell_type": "code",
   "execution_count": 14,
   "metadata": {
    "collapsed": false
   },
   "outputs": [
    {
     "data": {
      "text/plain": [
       "119"
      ]
     },
     "execution_count": 14,
     "metadata": {},
     "output_type": "execute_result"
    }
   ],
   "source": [
    "dtest=df[(df.ArtBPM<50) & (df.CVP<5) & (df.CVP>-10)]\n",
    "len(dtest.index)"
   ]
  },
  {
   "cell_type": "code",
   "execution_count": 15,
   "metadata": {
    "collapsed": false
   },
   "outputs": [
    {
     "data": {
      "text/html": [
       "<div>\n",
       "<table border=\"1\" class=\"dataframe\">\n",
       "  <thead>\n",
       "    <tr style=\"text-align: right;\">\n",
       "      <th></th>\n",
       "      <th>PatientID</th>\n",
       "      <th>Time</th>\n",
       "      <th>HR</th>\n",
       "      <th>ArtBPS</th>\n",
       "      <th>ArtBPM</th>\n",
       "      <th>CVP</th>\n",
       "      <th>PAPD</th>\n",
       "      <th>RR_total</th>\n",
       "      <th>RR_mandatory</th>\n",
       "      <th>Spo2</th>\n",
       "      <th>ST1</th>\n",
       "      <th>ST2</th>\n",
       "      <th>ST3</th>\n",
       "      <th>Fio2</th>\n",
       "      <th>Tag</th>\n",
       "      <th>Type</th>\n",
       "    </tr>\n",
       "  </thead>\n",
       "  <tbody>\n",
       "  </tbody>\n",
       "</table>\n",
       "</div>"
      ],
      "text/plain": [
       "Empty DataFrame\n",
       "Columns: [PatientID, Time, HR, ArtBPS, ArtBPM, CVP, PAPD, RR_total, RR_mandatory, Spo2, ST1, ST2, ST3, Fio2, Tag, Type]\n",
       "Index: []"
      ]
     },
     "execution_count": 15,
     "metadata": {},
     "output_type": "execute_result"
    }
   ],
   "source": [
    "dtest=df[(df.ArtBPS<78) & (df.CVP<35) & (df.CVP>16)& (df.PAPD<60)&(df.PAPD>16)]\n",
    "dtest"
   ]
  },
  {
   "cell_type": "code",
   "execution_count": 16,
   "metadata": {
    "collapsed": false
   },
   "outputs": [
    {
     "data": {
      "text/plain": [
       "8140"
      ]
     },
     "execution_count": 16,
     "metadata": {},
     "output_type": "execute_result"
    }
   ],
   "source": [
    "dtest=df[(df.HR>120)]\n",
    "len(dtest)"
   ]
  },
  {
   "cell_type": "code",
   "execution_count": 17,
   "metadata": {
    "collapsed": false
   },
   "outputs": [
    {
     "data": {
      "text/plain": [
       "14"
      ]
     },
     "execution_count": 17,
     "metadata": {},
     "output_type": "execute_result"
    }
   ],
   "source": [
    "dtest=df[(df.HR<45)]\n",
    "len(dtest)"
   ]
  },
  {
   "cell_type": "code",
   "execution_count": 541,
   "metadata": {
    "collapsed": false
   },
   "outputs": [
    {
     "data": {
      "text/html": [
       "<div>\n",
       "<table border=\"1\" class=\"dataframe\">\n",
       "  <thead>\n",
       "    <tr style=\"text-align: right;\">\n",
       "      <th></th>\n",
       "      <th>PatientID</th>\n",
       "      <th>Time</th>\n",
       "      <th>Alarm</th>\n",
       "      <th>HR</th>\n",
       "      <th>ArtBPS</th>\n",
       "      <th>ArtBPM</th>\n",
       "      <th>CVP</th>\n",
       "      <th>PAPD</th>\n",
       "      <th>RR_total</th>\n",
       "      <th>RR_mandatory</th>\n",
       "      <th>Spo2</th>\n",
       "      <th>ST1</th>\n",
       "      <th>ST2</th>\n",
       "      <th>ST3</th>\n",
       "      <th>Fio2</th>\n",
       "      <th>Tag</th>\n",
       "      <th>Type</th>\n",
       "    </tr>\n",
       "  </thead>\n",
       "  <tbody>\n",
       "    <tr>\n",
       "      <th>1482</th>\n",
       "      <td>20069</td>\n",
       "      <td>2013-02-14 16:00:00</td>\n",
       "      <td>True</td>\n",
       "      <td>NaN</td>\n",
       "      <td>78.189101</td>\n",
       "      <td>NaN</td>\n",
       "      <td>NaN</td>\n",
       "      <td>0.587888</td>\n",
       "      <td>NaN</td>\n",
       "      <td>NaN</td>\n",
       "      <td>NaN</td>\n",
       "      <td>NaN</td>\n",
       "      <td>NaN</td>\n",
       "      <td>NaN</td>\n",
       "      <td>NaN</td>\n",
       "      <td>0</td>\n",
       "      <td></td>\n",
       "    </tr>\n",
       "    <tr>\n",
       "      <th>15419</th>\n",
       "      <td>20069</td>\n",
       "      <td>2013-02-14 16:00:00</td>\n",
       "      <td>None</td>\n",
       "      <td>119.0</td>\n",
       "      <td>NaN</td>\n",
       "      <td>60.145427</td>\n",
       "      <td>11.026662</td>\n",
       "      <td>NaN</td>\n",
       "      <td>17.0</td>\n",
       "      <td>17.0</td>\n",
       "      <td>92.5</td>\n",
       "      <td>0.019</td>\n",
       "      <td>0.018</td>\n",
       "      <td>-0.011</td>\n",
       "      <td>60.0</td>\n",
       "      <td>0</td>\n",
       "      <td></td>\n",
       "    </tr>\n",
       "    <tr>\n",
       "      <th>1540</th>\n",
       "      <td>20069</td>\n",
       "      <td>2013-02-14 19:00:00</td>\n",
       "      <td>None</td>\n",
       "      <td>110.0</td>\n",
       "      <td>NaN</td>\n",
       "      <td>60.145427</td>\n",
       "      <td>10.024241</td>\n",
       "      <td>NaN</td>\n",
       "      <td>18.0</td>\n",
       "      <td>18.0</td>\n",
       "      <td>99.0</td>\n",
       "      <td>0.009</td>\n",
       "      <td>0.016</td>\n",
       "      <td>-0.001</td>\n",
       "      <td>60.0</td>\n",
       "      <td>0</td>\n",
       "      <td></td>\n",
       "    </tr>\n",
       "    <tr>\n",
       "      <th>7940</th>\n",
       "      <td>20069</td>\n",
       "      <td>2013-02-14 19:00:00</td>\n",
       "      <td>True</td>\n",
       "      <td>NaN</td>\n",
       "      <td>79.191502</td>\n",
       "      <td>NaN</td>\n",
       "      <td>NaN</td>\n",
       "      <td>0.595425</td>\n",
       "      <td>NaN</td>\n",
       "      <td>NaN</td>\n",
       "      <td>NaN</td>\n",
       "      <td>NaN</td>\n",
       "      <td>NaN</td>\n",
       "      <td>NaN</td>\n",
       "      <td>NaN</td>\n",
       "      <td>0</td>\n",
       "      <td></td>\n",
       "    </tr>\n",
       "    <tr>\n",
       "      <th>880</th>\n",
       "      <td>20069</td>\n",
       "      <td>2013-02-15 01:00:00</td>\n",
       "      <td>None</td>\n",
       "      <td>NaN</td>\n",
       "      <td>NaN</td>\n",
       "      <td>53.128466</td>\n",
       "      <td>15.036361</td>\n",
       "      <td>NaN</td>\n",
       "      <td>18.0</td>\n",
       "      <td>18.0</td>\n",
       "      <td>99.0</td>\n",
       "      <td>-0.040</td>\n",
       "      <td>-0.007</td>\n",
       "      <td>-0.011</td>\n",
       "      <td>50.0</td>\n",
       "      <td>0</td>\n",
       "      <td></td>\n",
       "    </tr>\n",
       "  </tbody>\n",
       "</table>\n",
       "</div>"
      ],
      "text/plain": [
       "       PatientID                Time Alarm     HR     ArtBPS     ArtBPM  \\\n",
       "1482       20069 2013-02-14 16:00:00  True    NaN  78.189101        NaN   \n",
       "15419      20069 2013-02-14 16:00:00  None  119.0        NaN  60.145427   \n",
       "1540       20069 2013-02-14 19:00:00  None  110.0        NaN  60.145427   \n",
       "7940       20069 2013-02-14 19:00:00  True    NaN  79.191502        NaN   \n",
       "880        20069 2013-02-15 01:00:00  None    NaN        NaN  53.128466   \n",
       "\n",
       "             CVP      PAPD  RR_total  RR_mandatory  Spo2    ST1    ST2    ST3  \\\n",
       "1482         NaN  0.587888       NaN           NaN   NaN    NaN    NaN    NaN   \n",
       "15419  11.026662       NaN      17.0          17.0  92.5  0.019  0.018 -0.011   \n",
       "1540   10.024241       NaN      18.0          18.0  99.0  0.009  0.016 -0.001   \n",
       "7940         NaN  0.595425       NaN           NaN   NaN    NaN    NaN    NaN   \n",
       "880    15.036361       NaN      18.0          18.0  99.0 -0.040 -0.007 -0.011   \n",
       "\n",
       "       Fio2  Tag Type  \n",
       "1482    NaN    0       \n",
       "15419  60.0    0       \n",
       "1540   60.0    0       \n",
       "7940    NaN    0       \n",
       "880    50.0    0       "
      ]
     },
     "execution_count": 541,
     "metadata": {},
     "output_type": "execute_result"
    }
   ],
   "source": [
    "df.head()"
   ]
  },
  {
   "cell_type": "code",
   "execution_count": 416,
   "metadata": {
    "collapsed": true
   },
   "outputs": [],
   "source": []
  },
  {
   "cell_type": "code",
   "execution_count": 436,
   "metadata": {
    "collapsed": false
   },
   "outputs": [],
   "source": [
    "matrix=df.iloc[:,2:15].copy()"
   ]
  },
  {
   "cell_type": "code",
   "execution_count": 54,
   "metadata": {
    "collapsed": false
   },
   "outputs": [
    {
     "data": {
      "text/html": [
       "<div>\n",
       "<table border=\"1\" class=\"dataframe\">\n",
       "  <thead>\n",
       "    <tr style=\"text-align: right;\">\n",
       "      <th></th>\n",
       "      <th>PatientID</th>\n",
       "      <th>Time</th>\n",
       "      <th>HR</th>\n",
       "      <th>ArtBPS</th>\n",
       "      <th>ArtBPM</th>\n",
       "      <th>CVP</th>\n",
       "      <th>PAPD</th>\n",
       "      <th>RR_total</th>\n",
       "      <th>RR_mandatory</th>\n",
       "      <th>Spo2</th>\n",
       "      <th>...</th>\n",
       "      <th>ArtBPM_AVG</th>\n",
       "      <th>CVP_AVG</th>\n",
       "      <th>PAPD_AVG</th>\n",
       "      <th>RR_total_AVG</th>\n",
       "      <th>RR_mandatory_AVG</th>\n",
       "      <th>Spo2_AVG</th>\n",
       "      <th>ST1_AVG</th>\n",
       "      <th>ST2_AVG</th>\n",
       "      <th>ST3_AVG</th>\n",
       "      <th>Fio2_AVG</th>\n",
       "    </tr>\n",
       "  </thead>\n",
       "  <tbody>\n",
       "    <tr>\n",
       "      <th>14953</th>\n",
       "      <td>20069</td>\n",
       "      <td>2013-02-14 16:00:00</td>\n",
       "      <td>119.0</td>\n",
       "      <td>78.189101</td>\n",
       "      <td>60.145427</td>\n",
       "      <td>11.026662</td>\n",
       "      <td>0.587888</td>\n",
       "      <td>17.0</td>\n",
       "      <td>17.0</td>\n",
       "      <td>92.5</td>\n",
       "      <td>...</td>\n",
       "      <td>NULL</td>\n",
       "      <td>NULL</td>\n",
       "      <td>NULL</td>\n",
       "      <td>NULL</td>\n",
       "      <td>NULL</td>\n",
       "      <td>NULL</td>\n",
       "      <td>NULL</td>\n",
       "      <td>NULL</td>\n",
       "      <td>NULL</td>\n",
       "      <td>NULL</td>\n",
       "    </tr>\n",
       "    <tr>\n",
       "      <th>21290</th>\n",
       "      <td>20069</td>\n",
       "      <td>2013-02-14 19:00:00</td>\n",
       "      <td>110.0</td>\n",
       "      <td>79.191502</td>\n",
       "      <td>60.145427</td>\n",
       "      <td>10.024241</td>\n",
       "      <td>0.595425</td>\n",
       "      <td>18.0</td>\n",
       "      <td>18.0</td>\n",
       "      <td>99.0</td>\n",
       "      <td>...</td>\n",
       "      <td>NULL</td>\n",
       "      <td>NULL</td>\n",
       "      <td>NULL</td>\n",
       "      <td>NULL</td>\n",
       "      <td>NULL</td>\n",
       "      <td>NULL</td>\n",
       "      <td>NULL</td>\n",
       "      <td>NULL</td>\n",
       "      <td>NULL</td>\n",
       "      <td>NULL</td>\n",
       "    </tr>\n",
       "    <tr>\n",
       "      <th>1385</th>\n",
       "      <td>20069</td>\n",
       "      <td>2013-02-15 01:00:00</td>\n",
       "      <td>159.0</td>\n",
       "      <td>71.172095</td>\n",
       "      <td>53.128466</td>\n",
       "      <td>15.036361</td>\n",
       "      <td>0.535129</td>\n",
       "      <td>18.0</td>\n",
       "      <td>18.0</td>\n",
       "      <td>99.0</td>\n",
       "      <td>...</td>\n",
       "      <td>NULL</td>\n",
       "      <td>NULL</td>\n",
       "      <td>NULL</td>\n",
       "      <td>NULL</td>\n",
       "      <td>NULL</td>\n",
       "      <td>NULL</td>\n",
       "      <td>NULL</td>\n",
       "      <td>NULL</td>\n",
       "      <td>NULL</td>\n",
       "      <td>NULL</td>\n",
       "    </tr>\n",
       "    <tr>\n",
       "      <th>11429</th>\n",
       "      <td>20069</td>\n",
       "      <td>2013-02-15 03:00:00</td>\n",
       "      <td>100.0</td>\n",
       "      <td>73.176941</td>\n",
       "      <td>53.128466</td>\n",
       "      <td>14.033932</td>\n",
       "      <td>0.550203</td>\n",
       "      <td>18.0</td>\n",
       "      <td>18.0</td>\n",
       "      <td>97.0</td>\n",
       "      <td>...</td>\n",
       "      <td>NULL</td>\n",
       "      <td>NULL</td>\n",
       "      <td>NULL</td>\n",
       "      <td>NULL</td>\n",
       "      <td>NULL</td>\n",
       "      <td>NULL</td>\n",
       "      <td>NULL</td>\n",
       "      <td>NULL</td>\n",
       "      <td>NULL</td>\n",
       "      <td>NULL</td>\n",
       "    </tr>\n",
       "    <tr>\n",
       "      <th>29980</th>\n",
       "      <td>20069</td>\n",
       "      <td>2013-02-15 05:00:00</td>\n",
       "      <td>111.0</td>\n",
       "      <td>98.237518</td>\n",
       "      <td>65.157550</td>\n",
       "      <td>14.033932</td>\n",
       "      <td>0.738628</td>\n",
       "      <td>18.0</td>\n",
       "      <td>18.0</td>\n",
       "      <td>98.0</td>\n",
       "      <td>...</td>\n",
       "      <td>NULL</td>\n",
       "      <td>NULL</td>\n",
       "      <td>NULL</td>\n",
       "      <td>NULL</td>\n",
       "      <td>NULL</td>\n",
       "      <td>NULL</td>\n",
       "      <td>NULL</td>\n",
       "      <td>NULL</td>\n",
       "      <td>NULL</td>\n",
       "      <td>NULL</td>\n",
       "    </tr>\n",
       "  </tbody>\n",
       "</table>\n",
       "<p>5 rows × 28 columns</p>\n",
       "</div>"
      ],
      "text/plain": [
       "       PatientID                Time     HR     ArtBPS     ArtBPM        CVP  \\\n",
       "14953      20069 2013-02-14 16:00:00  119.0  78.189101  60.145427  11.026662   \n",
       "21290      20069 2013-02-14 19:00:00  110.0  79.191502  60.145427  10.024241   \n",
       "1385       20069 2013-02-15 01:00:00  159.0  71.172095  53.128466  15.036361   \n",
       "11429      20069 2013-02-15 03:00:00  100.0  73.176941  53.128466  14.033932   \n",
       "29980      20069 2013-02-15 05:00:00  111.0  98.237518  65.157550  14.033932   \n",
       "\n",
       "           PAPD  RR_total  RR_mandatory  Spo2   ...     ArtBPM_AVG  CVP_AVG  \\\n",
       "14953  0.587888      17.0          17.0  92.5   ...           NULL     NULL   \n",
       "21290  0.595425      18.0          18.0  99.0   ...           NULL     NULL   \n",
       "1385   0.535129      18.0          18.0  99.0   ...           NULL     NULL   \n",
       "11429  0.550203      18.0          18.0  97.0   ...           NULL     NULL   \n",
       "29980  0.738628      18.0          18.0  98.0   ...           NULL     NULL   \n",
       "\n",
       "       PAPD_AVG  RR_total_AVG  RR_mandatory_AVG Spo2_AVG ST1_AVG ST2_AVG  \\\n",
       "14953      NULL          NULL              NULL     NULL    NULL    NULL   \n",
       "21290      NULL          NULL              NULL     NULL    NULL    NULL   \n",
       "1385       NULL          NULL              NULL     NULL    NULL    NULL   \n",
       "11429      NULL          NULL              NULL     NULL    NULL    NULL   \n",
       "29980      NULL          NULL              NULL     NULL    NULL    NULL   \n",
       "\n",
       "      ST3_AVG Fio2_AVG  \n",
       "14953    NULL     NULL  \n",
       "21290    NULL     NULL  \n",
       "1385     NULL     NULL  \n",
       "11429    NULL     NULL  \n",
       "29980    NULL     NULL  \n",
       "\n",
       "[5 rows x 28 columns]"
      ]
     },
     "execution_count": 54,
     "metadata": {},
     "output_type": "execute_result"
    }
   ],
   "source": []
  },
  {
   "cell_type": "markdown",
   "metadata": {},
   "source": []
  },
  {
   "cell_type": "code",
   "execution_count": 437,
   "metadata": {
    "collapsed": false
   },
   "outputs": [
    {
     "data": {
      "text/html": [
       "<div>\n",
       "<table border=\"1\" class=\"dataframe\">\n",
       "  <thead>\n",
       "    <tr style=\"text-align: right;\">\n",
       "      <th></th>\n",
       "      <th>HR</th>\n",
       "      <th>ArtBPS</th>\n",
       "      <th>ArtBPM</th>\n",
       "      <th>CVP</th>\n",
       "      <th>PAPD</th>\n",
       "      <th>RR_total</th>\n",
       "      <th>RR_mandatory</th>\n",
       "      <th>Spo2</th>\n",
       "      <th>ST1</th>\n",
       "      <th>ST2</th>\n",
       "      <th>ST3</th>\n",
       "      <th>Fio2</th>\n",
       "      <th>Tag</th>\n",
       "    </tr>\n",
       "  </thead>\n",
       "  <tbody>\n",
       "    <tr>\n",
       "      <th>5492</th>\n",
       "      <td>119.0</td>\n",
       "      <td>78.189101</td>\n",
       "      <td>60.145427</td>\n",
       "      <td>11.026662</td>\n",
       "      <td>0.587888</td>\n",
       "      <td>17.0</td>\n",
       "      <td>17.0</td>\n",
       "      <td>92.5</td>\n",
       "      <td>0.019</td>\n",
       "      <td>0.018</td>\n",
       "      <td>-0.011</td>\n",
       "      <td>60.0</td>\n",
       "      <td>0</td>\n",
       "    </tr>\n",
       "    <tr>\n",
       "      <th>10815</th>\n",
       "      <td>110.0</td>\n",
       "      <td>79.191502</td>\n",
       "      <td>60.145427</td>\n",
       "      <td>10.024241</td>\n",
       "      <td>0.595425</td>\n",
       "      <td>18.0</td>\n",
       "      <td>18.0</td>\n",
       "      <td>99.0</td>\n",
       "      <td>0.009</td>\n",
       "      <td>0.016</td>\n",
       "      <td>-0.001</td>\n",
       "      <td>60.0</td>\n",
       "      <td>0</td>\n",
       "    </tr>\n",
       "    <tr>\n",
       "      <th>7204</th>\n",
       "      <td>159.0</td>\n",
       "      <td>71.172095</td>\n",
       "      <td>53.128466</td>\n",
       "      <td>15.036361</td>\n",
       "      <td>0.535129</td>\n",
       "      <td>18.0</td>\n",
       "      <td>18.0</td>\n",
       "      <td>99.0</td>\n",
       "      <td>-0.040</td>\n",
       "      <td>-0.007</td>\n",
       "      <td>-0.011</td>\n",
       "      <td>50.0</td>\n",
       "      <td>1</td>\n",
       "    </tr>\n",
       "    <tr>\n",
       "      <th>19564</th>\n",
       "      <td>100.0</td>\n",
       "      <td>73.176941</td>\n",
       "      <td>53.128466</td>\n",
       "      <td>14.033932</td>\n",
       "      <td>0.550203</td>\n",
       "      <td>18.0</td>\n",
       "      <td>18.0</td>\n",
       "      <td>97.0</td>\n",
       "      <td>-0.006</td>\n",
       "      <td>0.010</td>\n",
       "      <td>-0.003</td>\n",
       "      <td>40.0</td>\n",
       "      <td>0</td>\n",
       "    </tr>\n",
       "    <tr>\n",
       "      <th>15874</th>\n",
       "      <td>111.0</td>\n",
       "      <td>98.237518</td>\n",
       "      <td>65.157550</td>\n",
       "      <td>14.033932</td>\n",
       "      <td>0.738628</td>\n",
       "      <td>18.0</td>\n",
       "      <td>18.0</td>\n",
       "      <td>98.0</td>\n",
       "      <td>-0.020</td>\n",
       "      <td>-0.003</td>\n",
       "      <td>-0.002</td>\n",
       "      <td>40.0</td>\n",
       "      <td>0</td>\n",
       "    </tr>\n",
       "  </tbody>\n",
       "</table>\n",
       "</div>"
      ],
      "text/plain": [
       "          HR     ArtBPS     ArtBPM        CVP      PAPD  RR_total  \\\n",
       "5492   119.0  78.189101  60.145427  11.026662  0.587888      17.0   \n",
       "10815  110.0  79.191502  60.145427  10.024241  0.595425      18.0   \n",
       "7204   159.0  71.172095  53.128466  15.036361  0.535129      18.0   \n",
       "19564  100.0  73.176941  53.128466  14.033932  0.550203      18.0   \n",
       "15874  111.0  98.237518  65.157550  14.033932  0.738628      18.0   \n",
       "\n",
       "       RR_mandatory  Spo2    ST1    ST2    ST3  Fio2  Tag  \n",
       "5492           17.0  92.5  0.019  0.018 -0.011  60.0    0  \n",
       "10815          18.0  99.0  0.009  0.016 -0.001  60.0    0  \n",
       "7204           18.0  99.0 -0.040 -0.007 -0.011  50.0    1  \n",
       "19564          18.0  97.0 -0.006  0.010 -0.003  40.0    0  \n",
       "15874          18.0  98.0 -0.020 -0.003 -0.002  40.0    0  "
      ]
     },
     "execution_count": 437,
     "metadata": {},
     "output_type": "execute_result"
    }
   ],
   "source": [
    "matrix.head()"
   ]
  },
  {
   "cell_type": "code",
   "execution_count": 438,
   "metadata": {
    "collapsed": false
   },
   "outputs": [
    {
     "data": {
      "text/html": [
       "<div>\n",
       "<table border=\"1\" class=\"dataframe\">\n",
       "  <thead>\n",
       "    <tr style=\"text-align: right;\">\n",
       "      <th></th>\n",
       "      <th>HR</th>\n",
       "      <th>ArtBPS</th>\n",
       "      <th>ArtBPM</th>\n",
       "      <th>CVP</th>\n",
       "      <th>PAPD</th>\n",
       "      <th>RR_total</th>\n",
       "      <th>RR_mandatory</th>\n",
       "      <th>Spo2</th>\n",
       "      <th>ST1</th>\n",
       "      <th>ST2</th>\n",
       "      <th>ST3</th>\n",
       "      <th>Fio2</th>\n",
       "      <th>Tag</th>\n",
       "    </tr>\n",
       "  </thead>\n",
       "  <tbody>\n",
       "    <tr>\n",
       "      <th>count</th>\n",
       "      <td>20000.000000</td>\n",
       "      <td>20000.000000</td>\n",
       "      <td>20000.000000</td>\n",
       "      <td>20000.000000</td>\n",
       "      <td>20000.000000</td>\n",
       "      <td>20000.000000</td>\n",
       "      <td>20000.000000</td>\n",
       "      <td>20000.000000</td>\n",
       "      <td>20000.000000</td>\n",
       "      <td>20000.000000</td>\n",
       "      <td>20000.000000</td>\n",
       "      <td>20000.000000</td>\n",
       "      <td>20000.000000</td>\n",
       "    </tr>\n",
       "    <tr>\n",
       "      <th>mean</th>\n",
       "      <td>0.462755</td>\n",
       "      <td>0.405789</td>\n",
       "      <td>0.297610</td>\n",
       "      <td>0.145238</td>\n",
       "      <td>0.405789</td>\n",
       "      <td>0.284251</td>\n",
       "      <td>0.663015</td>\n",
       "      <td>0.905059</td>\n",
       "      <td>0.977141</td>\n",
       "      <td>0.951635</td>\n",
       "      <td>0.870529</td>\n",
       "      <td>0.308233</td>\n",
       "      <td>0.173500</td>\n",
       "    </tr>\n",
       "    <tr>\n",
       "      <th>std</th>\n",
       "      <td>0.083148</td>\n",
       "      <td>0.077457</td>\n",
       "      <td>0.064063</td>\n",
       "      <td>0.038272</td>\n",
       "      <td>0.077457</td>\n",
       "      <td>0.081006</td>\n",
       "      <td>0.221732</td>\n",
       "      <td>0.104013</td>\n",
       "      <td>0.020901</td>\n",
       "      <td>0.020319</td>\n",
       "      <td>0.018918</td>\n",
       "      <td>0.268764</td>\n",
       "      <td>0.378688</td>\n",
       "    </tr>\n",
       "    <tr>\n",
       "      <th>min</th>\n",
       "      <td>0.000000</td>\n",
       "      <td>0.000000</td>\n",
       "      <td>0.000000</td>\n",
       "      <td>0.000000</td>\n",
       "      <td>0.000000</td>\n",
       "      <td>0.000000</td>\n",
       "      <td>0.000000</td>\n",
       "      <td>0.000000</td>\n",
       "      <td>0.000000</td>\n",
       "      <td>0.000000</td>\n",
       "      <td>0.000000</td>\n",
       "      <td>0.000000</td>\n",
       "      <td>0.000000</td>\n",
       "    </tr>\n",
       "    <tr>\n",
       "      <th>25%</th>\n",
       "      <td>0.400901</td>\n",
       "      <td>0.352159</td>\n",
       "      <td>0.262136</td>\n",
       "      <td>0.132022</td>\n",
       "      <td>0.352159</td>\n",
       "      <td>0.214286</td>\n",
       "      <td>0.600000</td>\n",
       "      <td>0.883333</td>\n",
       "      <td>0.975925</td>\n",
       "      <td>0.950938</td>\n",
       "      <td>0.870200</td>\n",
       "      <td>0.000000</td>\n",
       "      <td>0.000000</td>\n",
       "    </tr>\n",
       "    <tr>\n",
       "      <th>50%</th>\n",
       "      <td>0.468468</td>\n",
       "      <td>0.401993</td>\n",
       "      <td>0.291262</td>\n",
       "      <td>0.140449</td>\n",
       "      <td>0.401993</td>\n",
       "      <td>0.261905</td>\n",
       "      <td>0.700000</td>\n",
       "      <td>0.933333</td>\n",
       "      <td>0.976551</td>\n",
       "      <td>0.951664</td>\n",
       "      <td>0.870838</td>\n",
       "      <td>0.333333</td>\n",
       "      <td>0.000000</td>\n",
       "    </tr>\n",
       "    <tr>\n",
       "      <th>75%</th>\n",
       "      <td>0.522523</td>\n",
       "      <td>0.451827</td>\n",
       "      <td>0.330097</td>\n",
       "      <td>0.146067</td>\n",
       "      <td>0.451827</td>\n",
       "      <td>0.309524</td>\n",
       "      <td>0.800000</td>\n",
       "      <td>0.966667</td>\n",
       "      <td>0.978696</td>\n",
       "      <td>0.953611</td>\n",
       "      <td>0.871663</td>\n",
       "      <td>0.500000</td>\n",
       "      <td>0.000000</td>\n",
       "    </tr>\n",
       "    <tr>\n",
       "      <th>max</th>\n",
       "      <td>1.000000</td>\n",
       "      <td>1.000000</td>\n",
       "      <td>1.000000</td>\n",
       "      <td>1.000000</td>\n",
       "      <td>1.000000</td>\n",
       "      <td>1.000000</td>\n",
       "      <td>1.000000</td>\n",
       "      <td>1.000000</td>\n",
       "      <td>1.000000</td>\n",
       "      <td>1.000000</td>\n",
       "      <td>1.000000</td>\n",
       "      <td>1.000000</td>\n",
       "      <td>1.000000</td>\n",
       "    </tr>\n",
       "  </tbody>\n",
       "</table>\n",
       "</div>"
      ],
      "text/plain": [
       "                 HR        ArtBPS        ArtBPM           CVP          PAPD  \\\n",
       "count  20000.000000  20000.000000  20000.000000  20000.000000  20000.000000   \n",
       "mean       0.462755      0.405789      0.297610      0.145238      0.405789   \n",
       "std        0.083148      0.077457      0.064063      0.038272      0.077457   \n",
       "min        0.000000      0.000000      0.000000      0.000000      0.000000   \n",
       "25%        0.400901      0.352159      0.262136      0.132022      0.352159   \n",
       "50%        0.468468      0.401993      0.291262      0.140449      0.401993   \n",
       "75%        0.522523      0.451827      0.330097      0.146067      0.451827   \n",
       "max        1.000000      1.000000      1.000000      1.000000      1.000000   \n",
       "\n",
       "           RR_total  RR_mandatory          Spo2           ST1           ST2  \\\n",
       "count  20000.000000  20000.000000  20000.000000  20000.000000  20000.000000   \n",
       "mean       0.284251      0.663015      0.905059      0.977141      0.951635   \n",
       "std        0.081006      0.221732      0.104013      0.020901      0.020319   \n",
       "min        0.000000      0.000000      0.000000      0.000000      0.000000   \n",
       "25%        0.214286      0.600000      0.883333      0.975925      0.950938   \n",
       "50%        0.261905      0.700000      0.933333      0.976551      0.951664   \n",
       "75%        0.309524      0.800000      0.966667      0.978696      0.953611   \n",
       "max        1.000000      1.000000      1.000000      1.000000      1.000000   \n",
       "\n",
       "                ST3          Fio2           Tag  \n",
       "count  20000.000000  20000.000000  20000.000000  \n",
       "mean       0.870529      0.308233      0.173500  \n",
       "std        0.018918      0.268764      0.378688  \n",
       "min        0.000000      0.000000      0.000000  \n",
       "25%        0.870200      0.000000      0.000000  \n",
       "50%        0.870838      0.333333      0.000000  \n",
       "75%        0.871663      0.500000      0.000000  \n",
       "max        1.000000      1.000000      1.000000  "
      ]
     },
     "execution_count": 438,
     "metadata": {},
     "output_type": "execute_result"
    }
   ],
   "source": [
    "normalized_data = (matrix - matrix.min()) / (matrix.max() - matrix.min())\n",
    "normalized_data.describe()"
   ]
  },
  {
   "cell_type": "code",
   "execution_count": 439,
   "metadata": {
    "collapsed": false
   },
   "outputs": [],
   "source": [
    "from sklearn.cluster import KMeans\n",
    "\n",
    "predictKM = KMeans(n_clusters=2)\n",
    "predictKM.fit(normalized_data)\n",
    "labels = predictKM.predict(normalized_data)"
   ]
  },
  {
   "cell_type": "code",
   "execution_count": 440,
   "metadata": {
    "collapsed": false
   },
   "outputs": [
    {
     "data": {
      "text/plain": [
       "array([1, 1, 0, ..., 1, 1, 0])"
      ]
     },
     "execution_count": 440,
     "metadata": {},
     "output_type": "execute_result"
    }
   ],
   "source": [
    "labels"
   ]
  },
  {
   "cell_type": "code",
   "execution_count": 447,
   "metadata": {
    "collapsed": false
   },
   "outputs": [
    {
     "data": {
      "text/plain": [
       "0.99999999999989808"
      ]
     },
     "execution_count": 447,
     "metadata": {},
     "output_type": "execute_result"
    }
   ],
   "source": [
    "sum((labels!=df.Tag)/len(df))"
   ]
  },
  {
   "cell_type": "code",
   "execution_count": null,
   "metadata": {
    "collapsed": false
   },
   "outputs": [],
   "source": []
  },
  {
   "cell_type": "code",
   "execution_count": null,
   "metadata": {
    "collapsed": false
   },
   "outputs": [],
   "source": []
  },
  {
   "cell_type": "code",
   "execution_count": 525,
   "metadata": {
    "collapsed": false
   },
   "outputs": [
    {
     "data": {
      "text/plain": [
       "''"
      ]
     },
     "execution_count": 525,
     "metadata": {},
     "output_type": "execute_result"
    }
   ],
   "source": []
  },
  {
   "cell_type": "code",
   "execution_count": 18,
   "metadata": {
    "collapsed": false
   },
   "outputs": [],
   "source": [
    "for i in range(2,len(df.index)):\n",
    "    Type=''\n",
    "    t1=df.ix[i-2,'Time'].to_pydatetime()\n",
    "    t2=df.ix[i-1,'Time'].to_pydatetime()\n",
    "    t3=df.ix[i,'Time'].to_pydatetime()\n",
    "    MType=df.ix[i,'Type']\n",
    "    \n",
    "    \n",
    "    if (t2-t1).total_seconds()==60.0 and (t3-t2).total_seconds()==60.0 and df.ix[i,'PatientID']==df.ix[i-1,'PatientID'] and df.ix[i-1,'PatientID']==df.ix[i-2,'PatientID']:\n",
    "        #SVT & Hypotension\n",
    "        if df.ix[i,'HR'] is not None and df.ix[i-1,'HR'] is not None and df.ix[i-2,'HR'] is not None and df.ix[i,'ArtBPS'] is not None and df.ix[i-1,'ArtBPS'] is not None and df.ix[i-2,'ArtBPS'] is not None:\n",
    "            if not math.isnan(df.ix[i,'HR']) and not math.isnan(df.ix[i-1,'HR']) and not math.isnan(df.ix[i-2,'HR']) and not math.isnan(df.ix[i,'ArtBPS']) and not math.isnan(df.ix[i-1,'ArtBPS']) and not math.isnan(df.ix[i-2,'ArtBPS']):\n",
    "                if ((df.ix[i,'ArtBPS']*1.25 <df.ix[i-1,'ArtBPS'])| (df.ix[i,'ArtBPS']*1.25<df.ix[i-2,'ArtBPS']) |(df.ix[i-1,'ArtBPS']*1.25<df.ix[i-2,'ArtBPS']))&((df.ix[i,'HR']>df.ix[i-1,'HR']*1.4)| (df.ix[i,'HR']>df.ix[i-2,'HR']*1.4) |(df.ix[i-1,'HR']>df.ix[i-2,'HR']*1.4)):\n",
    "                    df.ix[i,'Tag']=1\n",
    "                    df.ix[i-1,'Tag']=1\n",
    "                    df.ix[i-2,'Tag']=1\n",
    "                    if (df.ix[i,'ArtBPS']<50 | df.ix[i-1,'ArtBPS']<50 | df.ix[i-2,'ArtBPS']<50)\n",
    "                        df.ix[i-2,Type]=MType+', SVT & Hypotension 2'\n",
    "                    else\n",
    "                        df.ix[i-2,Type]=MType+', SVT & Hypotension 1'\n",
    "                    print(\"hi\")\n",
    "    if (((t2-t1).total_seconds()==120.0) | ((t3-t2).total_seconds()==120.0) | ((t3-t2).total_seconds()==180.0) | ((t2-t1).total_seconds()==180.0)) and df.ix[i,'PatientID']==df.ix[i-1,'PatientID'] and df.ix[i-1,'PatientID']==df.ix[i-2,'PatientID']:\n",
    "        if df.ix[i,'HR'] is not None and df.ix[i-1,'HR'] is not None and df.ix[i-2,'HR'] is not None and df.ix[i,'ArtBPS'] is not None and df.ix[i-1,'ArtBPS'] is not None and df.ix[i-2,'ArtBPS'] is not None:\n",
    "            if not math.isnan(df.ix[i,'HR']) and not math.isnan(df.ix[i-1,'HR']) and not math.isnan(df.ix[i-2,'HR']) and not math.isnan(df.ix[i,'ArtBPS']) and not math.isnan(df.ix[i-1,'ArtBPS']) and not math.isnan(df.ix[i-2,'ArtBPS']):\n",
    "                if ((df.ix[i,'ArtBPM']*1.25 <df.ix[i-1,'ArtBPM'])| (df.ix[i,'ArtBPM']*1.25<df.ix[i-2,'ArtBPM']) |(df.ix[i-1,'ArtBPM']*1.25<df.ix[i-2,'ArtBPM']))&((df.ix[i,'HR']>df.ix[i-1,'HR']*1.4)| (df.ix[i,'HR']>df.ix[i-2,'HR']*1.4) |(df.ix[i-1,'HR']>df.ix[i-2,'HR']*1.4)):\n",
    "                    df.ix[i,'Tag']=1\n",
    "                    df.ix[i-1,'Tag']=1\n",
    "                    df.ix[i-2,'Tag']=1\n",
    "                    df.ix[i-2,Type]=MType+' ,SVT & Hypotension'\n",
    "                    print(\"hi\")"
   ]
  },
  {
   "cell_type": "code",
   "execution_count": 19,
   "metadata": {
    "collapsed": false
   },
   "outputs": [
    {
     "data": {
      "text/plain": [
       "0"
      ]
     },
     "execution_count": 19,
     "metadata": {},
     "output_type": "execute_result"
    }
   ],
   "source": [
    "#Hypovolemia1 - 30\n",
    "#LV shock 1 - 0 \n",
    "#Bradycardia1 - 6\n",
    "#Tachycardia - 3433\n",
    "#SVT & Hypotension - 0\n",
    "len(df[df.Type == ' SVT & Hypotension'])"
   ]
  },
  {
   "cell_type": "code",
   "execution_count": 59,
   "metadata": {
    "collapsed": false
   },
   "outputs": [
    {
     "data": {
      "text/html": [
       "<div>\n",
       "<table border=\"1\" class=\"dataframe\">\n",
       "  <thead>\n",
       "    <tr style=\"text-align: right;\">\n",
       "      <th></th>\n",
       "      <th>HR</th>\n",
       "      <th>ArtBPS</th>\n",
       "      <th>ArtBPM</th>\n",
       "      <th>CVP</th>\n",
       "      <th>PAPD</th>\n",
       "      <th>RR_total</th>\n",
       "      <th>RR_mandatory</th>\n",
       "      <th>Spo2</th>\n",
       "      <th>ST1</th>\n",
       "      <th>ST2</th>\n",
       "      <th>ST3</th>\n",
       "      <th>Fio2</th>\n",
       "    </tr>\n",
       "  </thead>\n",
       "  <tbody>\n",
       "    <tr>\n",
       "      <th>14953</th>\n",
       "      <td>119.0</td>\n",
       "      <td>78.189101</td>\n",
       "      <td>60.145427</td>\n",
       "      <td>11.026662</td>\n",
       "      <td>0.587888</td>\n",
       "      <td>17.0</td>\n",
       "      <td>17.0</td>\n",
       "      <td>92.5</td>\n",
       "      <td>0.019</td>\n",
       "      <td>0.018</td>\n",
       "      <td>-0.011</td>\n",
       "      <td>60.0</td>\n",
       "    </tr>\n",
       "    <tr>\n",
       "      <th>21290</th>\n",
       "      <td>110.0</td>\n",
       "      <td>79.191502</td>\n",
       "      <td>60.145427</td>\n",
       "      <td>10.024241</td>\n",
       "      <td>0.595425</td>\n",
       "      <td>18.0</td>\n",
       "      <td>18.0</td>\n",
       "      <td>99.0</td>\n",
       "      <td>0.009</td>\n",
       "      <td>0.016</td>\n",
       "      <td>-0.001</td>\n",
       "      <td>60.0</td>\n",
       "    </tr>\n",
       "    <tr>\n",
       "      <th>1385</th>\n",
       "      <td>159.0</td>\n",
       "      <td>71.172095</td>\n",
       "      <td>53.128466</td>\n",
       "      <td>15.036361</td>\n",
       "      <td>0.535129</td>\n",
       "      <td>18.0</td>\n",
       "      <td>18.0</td>\n",
       "      <td>99.0</td>\n",
       "      <td>-0.040</td>\n",
       "      <td>-0.007</td>\n",
       "      <td>-0.011</td>\n",
       "      <td>50.0</td>\n",
       "    </tr>\n",
       "    <tr>\n",
       "      <th>11429</th>\n",
       "      <td>100.0</td>\n",
       "      <td>73.176941</td>\n",
       "      <td>53.128466</td>\n",
       "      <td>14.033932</td>\n",
       "      <td>0.550203</td>\n",
       "      <td>18.0</td>\n",
       "      <td>18.0</td>\n",
       "      <td>97.0</td>\n",
       "      <td>-0.006</td>\n",
       "      <td>0.010</td>\n",
       "      <td>-0.003</td>\n",
       "      <td>40.0</td>\n",
       "    </tr>\n",
       "    <tr>\n",
       "      <th>29980</th>\n",
       "      <td>111.0</td>\n",
       "      <td>98.237518</td>\n",
       "      <td>65.157550</td>\n",
       "      <td>14.033932</td>\n",
       "      <td>0.738628</td>\n",
       "      <td>18.0</td>\n",
       "      <td>18.0</td>\n",
       "      <td>98.0</td>\n",
       "      <td>-0.020</td>\n",
       "      <td>-0.003</td>\n",
       "      <td>-0.002</td>\n",
       "      <td>40.0</td>\n",
       "    </tr>\n",
       "  </tbody>\n",
       "</table>\n",
       "</div>"
      ],
      "text/plain": [
       "          HR     ArtBPS     ArtBPM        CVP      PAPD  RR_total  \\\n",
       "14953  119.0  78.189101  60.145427  11.026662  0.587888      17.0   \n",
       "21290  110.0  79.191502  60.145427  10.024241  0.595425      18.0   \n",
       "1385   159.0  71.172095  53.128466  15.036361  0.535129      18.0   \n",
       "11429  100.0  73.176941  53.128466  14.033932  0.550203      18.0   \n",
       "29980  111.0  98.237518  65.157550  14.033932  0.738628      18.0   \n",
       "\n",
       "       RR_mandatory  Spo2    ST1    ST2    ST3  Fio2  \n",
       "14953          17.0  92.5  0.019  0.018 -0.011  60.0  \n",
       "21290          18.0  99.0  0.009  0.016 -0.001  60.0  \n",
       "1385           18.0  99.0 -0.040 -0.007 -0.011  50.0  \n",
       "11429          18.0  97.0 -0.006  0.010 -0.003  40.0  \n",
       "29980          18.0  98.0 -0.020 -0.003 -0.002  40.0  "
      ]
     },
     "execution_count": 59,
     "metadata": {},
     "output_type": "execute_result"
    }
   ],
   "source": [
    "data=df.iloc[:,2:14].copy()"
   ]
  },
  {
   "cell_type": "code",
   "execution_count": 20,
   "metadata": {
    "collapsed": false
   },
   "outputs": [
    {
     "data": {
      "text/plain": [
       "8272"
      ]
     },
     "execution_count": 20,
     "metadata": {},
     "output_type": "execute_result"
    }
   ],
   "source": [
    "len(df[df.Tag==1])"
   ]
  },
  {
   "cell_type": "code",
   "execution_count": 61,
   "metadata": {
    "collapsed": false
   },
   "outputs": [],
   "source": [
    "#Add column:\n",
    "\n",
    "data['HR_AVG'] = pd.Series('NULL', index=data.index)\n",
    "data['ArtBPS_AVG'] = pd.Series('NULL', index=data.index)\n",
    "data['ArtBPM_AVG'] = pd.Series('NULL', index=data.index)\n",
    "data['CVP_AVG'] = pd.Series('NULL', index=data.index)\n",
    "data['PAPD_AVG'] = pd.Series('NULL', index=data.index)\n",
    "data['RR_total_AVG'] = pd.Series('NULL', index=data.index)\n",
    "data['RR_mandatory_AVG'] = pd.Series('NULL', index=data.index)\n",
    "data['Spo2_AVG'] = pd.Series('NULL', index=data.index)\n",
    "data['ST1_AVG'] = pd.Series('NULL', index=data.index)\n",
    "data['ST2_AVG'] = pd.Series('NULL', index=data.index)\n",
    "data['ST3_AVG'] = pd.Series('NULL', index=data.index)\n",
    "data['ST2_AVG'] = pd.Series('NULL', index=data.index)\n",
    "data['Fio2_AVG'] = pd.Series('NULL', index=data.index)"
   ]
  },
  {
   "cell_type": "code",
   "execution_count": 94,
   "metadata": {
    "collapsed": false
   },
   "outputs": [
    {
     "data": {
      "text/plain": [
       "HR              105.500000\n",
       "ArtBPS           85.707229\n",
       "ArtBPM           59.143008\n",
       "CVP              14.033932\n",
       "PAPD              0.644415\n",
       "RR_total         18.000000\n",
       "RR_mandatory     18.000000\n",
       "Spo2             97.500000\n",
       "ST1              -0.013000\n",
       "ST2               0.003500\n",
       "ST3              -0.002500\n",
       "Fio2             40.000000\n",
       "dtype: float64"
      ]
     },
     "execution_count": 94,
     "metadata": {},
     "output_type": "execute_result"
    }
   ],
   "source": [
    "avg=data[3:5].mean()\n",
    "avg"
   ]
  },
  {
   "cell_type": "code",
   "execution_count": 96,
   "metadata": {
    "collapsed": false
   },
   "outputs": [
    {
     "ename": "KeyboardInterrupt",
     "evalue": "",
     "output_type": "error",
     "traceback": [
      "\u001b[0;31m---------------------------------------------------------------------------\u001b[0m",
      "\u001b[0;31mKeyError\u001b[0m                                  Traceback (most recent call last)",
      "\u001b[0;32mC:\\Users\\TEMP\\AppData\\Local\\Continuum\\Anaconda3\\lib\\site-packages\\pandas\\indexes\\base.py\u001b[0m in \u001b[0;36mget_loc\u001b[0;34m(self, key, method, tolerance)\u001b[0m\n\u001b[1;32m   2133\u001b[0m             \u001b[1;32mtry\u001b[0m\u001b[1;33m:\u001b[0m\u001b[1;33m\u001b[0m\u001b[0m\n\u001b[0;32m-> 2134\u001b[0;31m                 \u001b[1;32mreturn\u001b[0m \u001b[0mself\u001b[0m\u001b[1;33m.\u001b[0m\u001b[0m_engine\u001b[0m\u001b[1;33m.\u001b[0m\u001b[0mget_loc\u001b[0m\u001b[1;33m(\u001b[0m\u001b[0mkey\u001b[0m\u001b[1;33m)\u001b[0m\u001b[1;33m\u001b[0m\u001b[0m\n\u001b[0m\u001b[1;32m   2135\u001b[0m             \u001b[1;32mexcept\u001b[0m \u001b[0mKeyError\u001b[0m\u001b[1;33m:\u001b[0m\u001b[1;33m\u001b[0m\u001b[0m\n",
      "\u001b[0;32mpandas\\index.pyx\u001b[0m in \u001b[0;36mpandas.index.IndexEngine.get_loc (pandas\\index.c:4433)\u001b[0;34m()\u001b[0m\n",
      "\u001b[0;32mpandas\\index.pyx\u001b[0m in \u001b[0;36mpandas.index.IndexEngine.get_loc (pandas\\index.c:4279)\u001b[0;34m()\u001b[0m\n",
      "\u001b[0;32mpandas\\src\\hashtable_class_helper.pxi\u001b[0m in \u001b[0;36mpandas.hashtable.PyObjectHashTable.get_item (pandas\\hashtable.c:13742)\u001b[0;34m()\u001b[0m\n",
      "\u001b[0;32mpandas\\src\\hashtable_class_helper.pxi\u001b[0m in \u001b[0;36mpandas.hashtable.PyObjectHashTable.get_item (pandas\\hashtable.c:13696)\u001b[0;34m()\u001b[0m\n",
      "\u001b[0;31mKeyError\u001b[0m: (28932, 24)",
      "\nDuring handling of the above exception, another exception occurred:\n",
      "\u001b[0;31mKeyError\u001b[0m                                  Traceback (most recent call last)",
      "\u001b[0;32mC:\\Users\\TEMP\\AppData\\Local\\Continuum\\Anaconda3\\lib\\site-packages\\pandas\\core\\internals.py\u001b[0m in \u001b[0;36mset\u001b[0;34m(self, item, value, check)\u001b[0m\n\u001b[1;32m   3667\u001b[0m         \u001b[1;32mtry\u001b[0m\u001b[1;33m:\u001b[0m\u001b[1;33m\u001b[0m\u001b[0m\n\u001b[0;32m-> 3668\u001b[0;31m             \u001b[0mloc\u001b[0m \u001b[1;33m=\u001b[0m \u001b[0mself\u001b[0m\u001b[1;33m.\u001b[0m\u001b[0mitems\u001b[0m\u001b[1;33m.\u001b[0m\u001b[0mget_loc\u001b[0m\u001b[1;33m(\u001b[0m\u001b[0mitem\u001b[0m\u001b[1;33m)\u001b[0m\u001b[1;33m\u001b[0m\u001b[0m\n\u001b[0m\u001b[1;32m   3669\u001b[0m         \u001b[1;32mexcept\u001b[0m \u001b[0mKeyError\u001b[0m\u001b[1;33m:\u001b[0m\u001b[1;33m\u001b[0m\u001b[0m\n",
      "\u001b[0;32mC:\\Users\\TEMP\\AppData\\Local\\Continuum\\Anaconda3\\lib\\site-packages\\pandas\\indexes\\base.py\u001b[0m in \u001b[0;36mget_loc\u001b[0;34m(self, key, method, tolerance)\u001b[0m\n\u001b[1;32m   2135\u001b[0m             \u001b[1;32mexcept\u001b[0m \u001b[0mKeyError\u001b[0m\u001b[1;33m:\u001b[0m\u001b[1;33m\u001b[0m\u001b[0m\n\u001b[0;32m-> 2136\u001b[0;31m                 \u001b[1;32mreturn\u001b[0m \u001b[0mself\u001b[0m\u001b[1;33m.\u001b[0m\u001b[0m_engine\u001b[0m\u001b[1;33m.\u001b[0m\u001b[0mget_loc\u001b[0m\u001b[1;33m(\u001b[0m\u001b[0mself\u001b[0m\u001b[1;33m.\u001b[0m\u001b[0m_maybe_cast_indexer\u001b[0m\u001b[1;33m(\u001b[0m\u001b[0mkey\u001b[0m\u001b[1;33m)\u001b[0m\u001b[1;33m)\u001b[0m\u001b[1;33m\u001b[0m\u001b[0m\n\u001b[0m\u001b[1;32m   2137\u001b[0m \u001b[1;33m\u001b[0m\u001b[0m\n",
      "\u001b[0;32mpandas\\index.pyx\u001b[0m in \u001b[0;36mpandas.index.IndexEngine.get_loc (pandas\\index.c:4433)\u001b[0;34m()\u001b[0m\n",
      "\u001b[0;32mpandas\\index.pyx\u001b[0m in \u001b[0;36mpandas.index.IndexEngine.get_loc (pandas\\index.c:4279)\u001b[0;34m()\u001b[0m\n",
      "\u001b[0;32mpandas\\src\\hashtable_class_helper.pxi\u001b[0m in \u001b[0;36mpandas.hashtable.PyObjectHashTable.get_item (pandas\\hashtable.c:13742)\u001b[0;34m()\u001b[0m\n",
      "\u001b[0;32mpandas\\src\\hashtable_class_helper.pxi\u001b[0m in \u001b[0;36mpandas.hashtable.PyObjectHashTable.get_item (pandas\\hashtable.c:13696)\u001b[0;34m()\u001b[0m\n",
      "\u001b[0;31mKeyError\u001b[0m: (28932, 24)",
      "\nDuring handling of the above exception, another exception occurred:\n",
      "\u001b[0;31mKeyboardInterrupt\u001b[0m                         Traceback (most recent call last)",
      "\u001b[0;32m<ipython-input-96-cee8b0c5d2d3>\u001b[0m in \u001b[0;36m<module>\u001b[0;34m()\u001b[0m\n\u001b[1;32m      7\u001b[0m         \u001b[0mavg\u001b[0m\u001b[1;33m=\u001b[0m\u001b[0mdata\u001b[0m\u001b[1;33m[\u001b[0m\u001b[0mi\u001b[0m\u001b[1;33m-\u001b[0m\u001b[1;36m3\u001b[0m\u001b[1;33m:\u001b[0m\u001b[0mi\u001b[0m\u001b[1;33m-\u001b[0m\u001b[1;36m1\u001b[0m\u001b[1;33m]\u001b[0m\u001b[1;33m.\u001b[0m\u001b[0mmean\u001b[0m\u001b[1;33m(\u001b[0m\u001b[1;33m)\u001b[0m\u001b[1;33m\u001b[0m\u001b[0m\n\u001b[1;32m      8\u001b[0m         \u001b[1;32mfor\u001b[0m \u001b[0mj\u001b[0m \u001b[1;32min\u001b[0m \u001b[0mrange\u001b[0m\u001b[1;33m(\u001b[0m\u001b[1;36m1\u001b[0m\u001b[1;33m,\u001b[0m\u001b[1;36m12\u001b[0m\u001b[1;33m)\u001b[0m\u001b[1;33m:\u001b[0m\u001b[1;33m\u001b[0m\u001b[0m\n\u001b[0;32m----> 9\u001b[0;31m             \u001b[0mdata\u001b[0m\u001b[1;33m[\u001b[0m\u001b[0mi\u001b[0m\u001b[1;33m,\u001b[0m\u001b[0mj\u001b[0m\u001b[1;33m+\u001b[0m\u001b[1;36m13\u001b[0m\u001b[1;33m]\u001b[0m\u001b[1;33m=\u001b[0m\u001b[0mavg\u001b[0m\u001b[1;33m[\u001b[0m\u001b[0mj\u001b[0m\u001b[1;33m]\u001b[0m\u001b[1;33m\u001b[0m\u001b[0m\n\u001b[0m",
      "\u001b[0;32mC:\\Users\\TEMP\\AppData\\Local\\Continuum\\Anaconda3\\lib\\site-packages\\pandas\\core\\frame.py\u001b[0m in \u001b[0;36m__setitem__\u001b[0;34m(self, key, value)\u001b[0m\n\u001b[1;32m   2417\u001b[0m         \u001b[1;32melse\u001b[0m\u001b[1;33m:\u001b[0m\u001b[1;33m\u001b[0m\u001b[0m\n\u001b[1;32m   2418\u001b[0m             \u001b[1;31m# set column\u001b[0m\u001b[1;33m\u001b[0m\u001b[1;33m\u001b[0m\u001b[0m\n\u001b[0;32m-> 2419\u001b[0;31m             \u001b[0mself\u001b[0m\u001b[1;33m.\u001b[0m\u001b[0m_set_item\u001b[0m\u001b[1;33m(\u001b[0m\u001b[0mkey\u001b[0m\u001b[1;33m,\u001b[0m \u001b[0mvalue\u001b[0m\u001b[1;33m)\u001b[0m\u001b[1;33m\u001b[0m\u001b[0m\n\u001b[0m\u001b[1;32m   2420\u001b[0m \u001b[1;33m\u001b[0m\u001b[0m\n\u001b[1;32m   2421\u001b[0m     \u001b[1;32mdef\u001b[0m \u001b[0m_setitem_slice\u001b[0m\u001b[1;33m(\u001b[0m\u001b[0mself\u001b[0m\u001b[1;33m,\u001b[0m \u001b[0mkey\u001b[0m\u001b[1;33m,\u001b[0m \u001b[0mvalue\u001b[0m\u001b[1;33m)\u001b[0m\u001b[1;33m:\u001b[0m\u001b[1;33m\u001b[0m\u001b[0m\n",
      "\u001b[0;32mC:\\Users\\TEMP\\AppData\\Local\\Continuum\\Anaconda3\\lib\\site-packages\\pandas\\core\\frame.py\u001b[0m in \u001b[0;36m_set_item\u001b[0;34m(self, key, value)\u001b[0m\n\u001b[1;32m   2484\u001b[0m         \u001b[0mself\u001b[0m\u001b[1;33m.\u001b[0m\u001b[0m_ensure_valid_index\u001b[0m\u001b[1;33m(\u001b[0m\u001b[0mvalue\u001b[0m\u001b[1;33m)\u001b[0m\u001b[1;33m\u001b[0m\u001b[0m\n\u001b[1;32m   2485\u001b[0m         \u001b[0mvalue\u001b[0m \u001b[1;33m=\u001b[0m \u001b[0mself\u001b[0m\u001b[1;33m.\u001b[0m\u001b[0m_sanitize_column\u001b[0m\u001b[1;33m(\u001b[0m\u001b[0mkey\u001b[0m\u001b[1;33m,\u001b[0m \u001b[0mvalue\u001b[0m\u001b[1;33m)\u001b[0m\u001b[1;33m\u001b[0m\u001b[0m\n\u001b[0;32m-> 2486\u001b[0;31m         \u001b[0mNDFrame\u001b[0m\u001b[1;33m.\u001b[0m\u001b[0m_set_item\u001b[0m\u001b[1;33m(\u001b[0m\u001b[0mself\u001b[0m\u001b[1;33m,\u001b[0m \u001b[0mkey\u001b[0m\u001b[1;33m,\u001b[0m \u001b[0mvalue\u001b[0m\u001b[1;33m)\u001b[0m\u001b[1;33m\u001b[0m\u001b[0m\n\u001b[0m\u001b[1;32m   2487\u001b[0m \u001b[1;33m\u001b[0m\u001b[0m\n\u001b[1;32m   2488\u001b[0m         \u001b[1;31m# check if we are modifying a copy\u001b[0m\u001b[1;33m\u001b[0m\u001b[1;33m\u001b[0m\u001b[0m\n",
      "\u001b[0;32mC:\\Users\\TEMP\\AppData\\Local\\Continuum\\Anaconda3\\lib\\site-packages\\pandas\\core\\generic.py\u001b[0m in \u001b[0;36m_set_item\u001b[0;34m(self, key, value)\u001b[0m\n\u001b[1;32m   1498\u001b[0m \u001b[1;33m\u001b[0m\u001b[0m\n\u001b[1;32m   1499\u001b[0m     \u001b[1;32mdef\u001b[0m \u001b[0m_set_item\u001b[0m\u001b[1;33m(\u001b[0m\u001b[0mself\u001b[0m\u001b[1;33m,\u001b[0m \u001b[0mkey\u001b[0m\u001b[1;33m,\u001b[0m \u001b[0mvalue\u001b[0m\u001b[1;33m)\u001b[0m\u001b[1;33m:\u001b[0m\u001b[1;33m\u001b[0m\u001b[0m\n\u001b[0;32m-> 1500\u001b[0;31m         \u001b[0mself\u001b[0m\u001b[1;33m.\u001b[0m\u001b[0m_data\u001b[0m\u001b[1;33m.\u001b[0m\u001b[0mset\u001b[0m\u001b[1;33m(\u001b[0m\u001b[0mkey\u001b[0m\u001b[1;33m,\u001b[0m \u001b[0mvalue\u001b[0m\u001b[1;33m)\u001b[0m\u001b[1;33m\u001b[0m\u001b[0m\n\u001b[0m\u001b[1;32m   1501\u001b[0m         \u001b[0mself\u001b[0m\u001b[1;33m.\u001b[0m\u001b[0m_clear_item_cache\u001b[0m\u001b[1;33m(\u001b[0m\u001b[1;33m)\u001b[0m\u001b[1;33m\u001b[0m\u001b[0m\n\u001b[1;32m   1502\u001b[0m \u001b[1;33m\u001b[0m\u001b[0m\n",
      "\u001b[0;32mC:\\Users\\TEMP\\AppData\\Local\\Continuum\\Anaconda3\\lib\\site-packages\\pandas\\core\\internals.py\u001b[0m in \u001b[0;36mset\u001b[0;34m(self, item, value, check)\u001b[0m\n\u001b[1;32m   3669\u001b[0m         \u001b[1;32mexcept\u001b[0m \u001b[0mKeyError\u001b[0m\u001b[1;33m:\u001b[0m\u001b[1;33m\u001b[0m\u001b[0m\n\u001b[1;32m   3670\u001b[0m             \u001b[1;31m# This item wasn't present, just insert at end\u001b[0m\u001b[1;33m\u001b[0m\u001b[1;33m\u001b[0m\u001b[0m\n\u001b[0;32m-> 3671\u001b[0;31m             \u001b[0mself\u001b[0m\u001b[1;33m.\u001b[0m\u001b[0minsert\u001b[0m\u001b[1;33m(\u001b[0m\u001b[0mlen\u001b[0m\u001b[1;33m(\u001b[0m\u001b[0mself\u001b[0m\u001b[1;33m.\u001b[0m\u001b[0mitems\u001b[0m\u001b[1;33m)\u001b[0m\u001b[1;33m,\u001b[0m \u001b[0mitem\u001b[0m\u001b[1;33m,\u001b[0m \u001b[0mvalue\u001b[0m\u001b[1;33m)\u001b[0m\u001b[1;33m\u001b[0m\u001b[0m\n\u001b[0m\u001b[1;32m   3672\u001b[0m             \u001b[1;32mreturn\u001b[0m\u001b[1;33m\u001b[0m\u001b[0m\n\u001b[1;32m   3673\u001b[0m \u001b[1;33m\u001b[0m\u001b[0m\n",
      "\u001b[0;32mC:\\Users\\TEMP\\AppData\\Local\\Continuum\\Anaconda3\\lib\\site-packages\\pandas\\core\\internals.py\u001b[0m in \u001b[0;36minsert\u001b[0;34m(self, loc, item, value, allow_duplicates)\u001b[0m\n\u001b[1;32m   3797\u001b[0m \u001b[1;33m\u001b[0m\u001b[0m\n\u001b[1;32m   3798\u001b[0m         \u001b[1;32mif\u001b[0m \u001b[0mlen\u001b[0m\u001b[1;33m(\u001b[0m\u001b[0mself\u001b[0m\u001b[1;33m.\u001b[0m\u001b[0mblocks\u001b[0m\u001b[1;33m)\u001b[0m \u001b[1;33m>\u001b[0m \u001b[1;36m100\u001b[0m\u001b[1;33m:\u001b[0m\u001b[1;33m\u001b[0m\u001b[0m\n\u001b[0;32m-> 3799\u001b[0;31m             \u001b[0mself\u001b[0m\u001b[1;33m.\u001b[0m\u001b[0m_consolidate_inplace\u001b[0m\u001b[1;33m(\u001b[0m\u001b[1;33m)\u001b[0m\u001b[1;33m\u001b[0m\u001b[0m\n\u001b[0m\u001b[1;32m   3800\u001b[0m \u001b[1;33m\u001b[0m\u001b[0m\n\u001b[1;32m   3801\u001b[0m     def reindex_axis(self, new_index, axis, method=None, limit=None,\n",
      "\u001b[0;32mC:\\Users\\TEMP\\AppData\\Local\\Continuum\\Anaconda3\\lib\\site-packages\\pandas\\core\\internals.py\u001b[0m in \u001b[0;36m_consolidate_inplace\u001b[0;34m(self)\u001b[0m\n\u001b[1;32m   3529\u001b[0m     \u001b[1;32mdef\u001b[0m \u001b[0m_consolidate_inplace\u001b[0m\u001b[1;33m(\u001b[0m\u001b[0mself\u001b[0m\u001b[1;33m)\u001b[0m\u001b[1;33m:\u001b[0m\u001b[1;33m\u001b[0m\u001b[0m\n\u001b[1;32m   3530\u001b[0m         \u001b[1;32mif\u001b[0m \u001b[1;32mnot\u001b[0m \u001b[0mself\u001b[0m\u001b[1;33m.\u001b[0m\u001b[0mis_consolidated\u001b[0m\u001b[1;33m(\u001b[0m\u001b[1;33m)\u001b[0m\u001b[1;33m:\u001b[0m\u001b[1;33m\u001b[0m\u001b[0m\n\u001b[0;32m-> 3531\u001b[0;31m             \u001b[0mself\u001b[0m\u001b[1;33m.\u001b[0m\u001b[0mblocks\u001b[0m \u001b[1;33m=\u001b[0m \u001b[0mtuple\u001b[0m\u001b[1;33m(\u001b[0m\u001b[0m_consolidate\u001b[0m\u001b[1;33m(\u001b[0m\u001b[0mself\u001b[0m\u001b[1;33m.\u001b[0m\u001b[0mblocks\u001b[0m\u001b[1;33m)\u001b[0m\u001b[1;33m)\u001b[0m\u001b[1;33m\u001b[0m\u001b[0m\n\u001b[0m\u001b[1;32m   3532\u001b[0m             \u001b[0mself\u001b[0m\u001b[1;33m.\u001b[0m\u001b[0m_is_consolidated\u001b[0m \u001b[1;33m=\u001b[0m \u001b[1;32mTrue\u001b[0m\u001b[1;33m\u001b[0m\u001b[0m\n\u001b[1;32m   3533\u001b[0m             \u001b[0mself\u001b[0m\u001b[1;33m.\u001b[0m\u001b[0m_known_consolidated\u001b[0m \u001b[1;33m=\u001b[0m \u001b[1;32mTrue\u001b[0m\u001b[1;33m\u001b[0m\u001b[0m\n",
      "\u001b[0;32mC:\\Users\\TEMP\\AppData\\Local\\Continuum\\Anaconda3\\lib\\site-packages\\pandas\\core\\internals.py\u001b[0m in \u001b[0;36m_consolidate\u001b[0;34m(blocks)\u001b[0m\n\u001b[1;32m   4521\u001b[0m     \u001b[1;32mfor\u001b[0m \u001b[1;33m(\u001b[0m\u001b[0m_can_consolidate\u001b[0m\u001b[1;33m,\u001b[0m \u001b[0mdtype\u001b[0m\u001b[1;33m)\u001b[0m\u001b[1;33m,\u001b[0m \u001b[0mgroup_blocks\u001b[0m \u001b[1;32min\u001b[0m \u001b[0mgrouper\u001b[0m\u001b[1;33m:\u001b[0m\u001b[1;33m\u001b[0m\u001b[0m\n\u001b[1;32m   4522\u001b[0m         merged_blocks = _merge_blocks(list(group_blocks), dtype=dtype,\n\u001b[0;32m-> 4523\u001b[0;31m                                       _can_consolidate=_can_consolidate)\n\u001b[0m\u001b[1;32m   4524\u001b[0m         \u001b[0mnew_blocks\u001b[0m \u001b[1;33m=\u001b[0m \u001b[0m_extend_blocks\u001b[0m\u001b[1;33m(\u001b[0m\u001b[0mmerged_blocks\u001b[0m\u001b[1;33m,\u001b[0m \u001b[0mnew_blocks\u001b[0m\u001b[1;33m)\u001b[0m\u001b[1;33m\u001b[0m\u001b[0m\n\u001b[1;32m   4525\u001b[0m     \u001b[1;32mreturn\u001b[0m \u001b[0mnew_blocks\u001b[0m\u001b[1;33m\u001b[0m\u001b[0m\n",
      "\u001b[0;32mC:\\Users\\TEMP\\AppData\\Local\\Continuum\\Anaconda3\\lib\\site-packages\\pandas\\core\\internals.py\u001b[0m in \u001b[0;36m_merge_blocks\u001b[0;34m(blocks, dtype, _can_consolidate)\u001b[0m\n\u001b[1;32m   4541\u001b[0m         \u001b[1;31m# combination of those slices is a slice, too.\u001b[0m\u001b[1;33m\u001b[0m\u001b[1;33m\u001b[0m\u001b[0m\n\u001b[1;32m   4542\u001b[0m         \u001b[0mnew_mgr_locs\u001b[0m \u001b[1;33m=\u001b[0m \u001b[0mnp\u001b[0m\u001b[1;33m.\u001b[0m\u001b[0mconcatenate\u001b[0m\u001b[1;33m(\u001b[0m\u001b[1;33m[\u001b[0m\u001b[0mb\u001b[0m\u001b[1;33m.\u001b[0m\u001b[0mmgr_locs\u001b[0m\u001b[1;33m.\u001b[0m\u001b[0mas_array\u001b[0m \u001b[1;32mfor\u001b[0m \u001b[0mb\u001b[0m \u001b[1;32min\u001b[0m \u001b[0mblocks\u001b[0m\u001b[1;33m]\u001b[0m\u001b[1;33m)\u001b[0m\u001b[1;33m\u001b[0m\u001b[0m\n\u001b[0;32m-> 4543\u001b[0;31m         \u001b[0mnew_values\u001b[0m \u001b[1;33m=\u001b[0m \u001b[0m_vstack\u001b[0m\u001b[1;33m(\u001b[0m\u001b[1;33m[\u001b[0m\u001b[0mb\u001b[0m\u001b[1;33m.\u001b[0m\u001b[0mvalues\u001b[0m \u001b[1;32mfor\u001b[0m \u001b[0mb\u001b[0m \u001b[1;32min\u001b[0m \u001b[0mblocks\u001b[0m\u001b[1;33m]\u001b[0m\u001b[1;33m,\u001b[0m \u001b[0mdtype\u001b[0m\u001b[1;33m)\u001b[0m\u001b[1;33m\u001b[0m\u001b[0m\n\u001b[0m\u001b[1;32m   4544\u001b[0m \u001b[1;33m\u001b[0m\u001b[0m\n\u001b[1;32m   4545\u001b[0m         \u001b[0margsort\u001b[0m \u001b[1;33m=\u001b[0m \u001b[0mnp\u001b[0m\u001b[1;33m.\u001b[0m\u001b[0margsort\u001b[0m\u001b[1;33m(\u001b[0m\u001b[0mnew_mgr_locs\u001b[0m\u001b[1;33m)\u001b[0m\u001b[1;33m\u001b[0m\u001b[0m\n",
      "\u001b[0;32mC:\\Users\\TEMP\\AppData\\Local\\Continuum\\Anaconda3\\lib\\site-packages\\pandas\\core\\internals.py\u001b[0m in \u001b[0;36m_vstack\u001b[0;34m(to_stack, dtype)\u001b[0m\n\u001b[1;32m   4587\u001b[0m \u001b[1;33m\u001b[0m\u001b[0m\n\u001b[1;32m   4588\u001b[0m     \u001b[1;32melse\u001b[0m\u001b[1;33m:\u001b[0m\u001b[1;33m\u001b[0m\u001b[0m\n\u001b[0;32m-> 4589\u001b[0;31m         \u001b[1;32mreturn\u001b[0m \u001b[0mnp\u001b[0m\u001b[1;33m.\u001b[0m\u001b[0mvstack\u001b[0m\u001b[1;33m(\u001b[0m\u001b[0mto_stack\u001b[0m\u001b[1;33m)\u001b[0m\u001b[1;33m\u001b[0m\u001b[0m\n\u001b[0m\u001b[1;32m   4590\u001b[0m \u001b[1;33m\u001b[0m\u001b[0m\n\u001b[1;32m   4591\u001b[0m \u001b[1;33m\u001b[0m\u001b[0m\n",
      "\u001b[0;32mC:\\Users\\TEMP\\AppData\\Local\\Continuum\\Anaconda3\\lib\\site-packages\\numpy\\core\\shape_base.py\u001b[0m in \u001b[0;36mvstack\u001b[0;34m(tup)\u001b[0m\n\u001b[1;32m    228\u001b[0m \u001b[1;33m\u001b[0m\u001b[0m\n\u001b[1;32m    229\u001b[0m     \"\"\"\n\u001b[0;32m--> 230\u001b[0;31m     \u001b[1;32mreturn\u001b[0m \u001b[0m_nx\u001b[0m\u001b[1;33m.\u001b[0m\u001b[0mconcatenate\u001b[0m\u001b[1;33m(\u001b[0m\u001b[1;33m[\u001b[0m\u001b[0matleast_2d\u001b[0m\u001b[1;33m(\u001b[0m\u001b[0m_m\u001b[0m\u001b[1;33m)\u001b[0m \u001b[1;32mfor\u001b[0m \u001b[0m_m\u001b[0m \u001b[1;32min\u001b[0m \u001b[0mtup\u001b[0m\u001b[1;33m]\u001b[0m\u001b[1;33m,\u001b[0m \u001b[1;36m0\u001b[0m\u001b[1;33m)\u001b[0m\u001b[1;33m\u001b[0m\u001b[0m\n\u001b[0m\u001b[1;32m    231\u001b[0m \u001b[1;33m\u001b[0m\u001b[0m\n\u001b[1;32m    232\u001b[0m \u001b[1;32mdef\u001b[0m \u001b[0mhstack\u001b[0m\u001b[1;33m(\u001b[0m\u001b[0mtup\u001b[0m\u001b[1;33m)\u001b[0m\u001b[1;33m:\u001b[0m\u001b[1;33m\u001b[0m\u001b[0m\n",
      "\u001b[0;31mKeyboardInterrupt\u001b[0m: "
     ]
    }
   ],
   "source": [
    "for i in range(4,len(data.index)):\n",
    "    p1=df.ix[i-1,'PatientID']\n",
    "    p3=df.ix[i-3,'PatientID']\n",
    "    t1=df.ix[i-1,'Time'].to_pydatetime()\n",
    "    t3=df.ix[i-3,'Time'].to_pydatetime()\n",
    "    if (t3-t1).total_seconds()<=600.0 and p1==p3:\n",
    "        avg=data[i-3:i-1].mean()\n",
    "        for j in range(1,12):\n",
    "            data[i,j+13]=avg[j]"
   ]
  },
  {
   "cell_type": "code",
   "execution_count": null,
   "metadata": {
    "collapsed": true
   },
   "outputs": [],
   "source": []
  },
  {
   "cell_type": "code",
   "execution_count": null,
   "metadata": {
    "collapsed": true
   },
   "outputs": [],
   "source": [
    "df.to_csv(r'C:\\Users\\TEMP\\Desktop\\Python - Thesis\\df.csv', header= 'TRUE', index=None, sep=',', mode='a')"
   ]
  }
 ],
 "metadata": {
  "anaconda-cloud": {},
  "kernelspec": {
   "display_name": "Python [conda root]",
   "language": "python",
   "name": "conda-root-py"
  },
  "language_info": {
   "codemirror_mode": {
    "name": "ipython",
    "version": 3
   },
   "file_extension": ".py",
   "mimetype": "text/x-python",
   "name": "python",
   "nbconvert_exporter": "python",
   "pygments_lexer": "ipython3",
   "version": "3.5.2"
  }
 },
 "nbformat": 4,
 "nbformat_minor": 1
}
