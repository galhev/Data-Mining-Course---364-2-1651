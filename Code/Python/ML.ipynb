{
 "cells": [
  {
   "cell_type": "code",
   "execution_count": 17,
   "metadata": {
    "collapsed": false
   },
   "outputs": [],
   "source": [
    "import pyodbc\n",
    "import pandas as pd\n",
    "import math\n",
    "\n",
    "con = pyodbc.connect('DRIVER={SQL Server};SERVER=localhost;DATABASE=TASMC_ICU_Intensix')\n",
    "\n"
   ]
  },
  {
   "cell_type": "code",
   "execution_count": 18,
   "metadata": {
    "collapsed": false
   },
   "outputs": [],
   "source": [
    "cursor = con.cursor()\n"
   ]
  },
  {
   "cell_type": "code",
   "execution_count": null,
   "metadata": {
    "collapsed": false
   },
   "outputs": [],
   "source": []
  },
  {
   "cell_type": "code",
   "execution_count": 19,
   "metadata": {
    "collapsed": false
   },
   "outputs": [],
   "source": [
    "patients = pd.read_csv('ML_patients.txt')"
   ]
  },
  {
   "cell_type": "code",
   "execution_count": 20,
   "metadata": {
    "collapsed": false
   },
   "outputs": [
    {
     "ename": "ProgrammingError",
     "evalue": "('42000', \"[42000] [Microsoft][ODBC SQL Server Driver][SQL Server]Could not allocate space for object 'dbo.Signals'.'ParamTypeInd' in database 'TASMC_ICU_Intensix' because the 'PRIMARY' filegroup is full. Create disk space by deleting unneeded files, dropping objects in the filegroup, adding additional files to the filegroup, or setting autogrowth on for existing files in the filegroup. (1105) (SQLExecDirectW)\")",
     "output_type": "error",
     "traceback": [
      "\u001b[0;31m---------------------------------------------------------------------------\u001b[0m",
      "\u001b[0;31mProgrammingError\u001b[0m                          Traceback (most recent call last)",
      "\u001b[0;32m<ipython-input-20-b9bbb4280566>\u001b[0m in \u001b[0;36m<module>\u001b[0;34m()\u001b[0m\n\u001b[1;32m     10\u001b[0m                 \u001b[1;32mif\u001b[0m \u001b[1;32mnot\u001b[0m \u001b[0mmath\u001b[0m\u001b[1;33m.\u001b[0m\u001b[0misnan\u001b[0m\u001b[1;33m(\u001b[0m\u001b[0mdf\u001b[0m\u001b[1;33m.\u001b[0m\u001b[0mix\u001b[0m\u001b[1;33m[\u001b[0m\u001b[0mi\u001b[0m\u001b[1;33m,\u001b[0m\u001b[0mj\u001b[0m\u001b[1;33m]\u001b[0m\u001b[1;33m)\u001b[0m\u001b[1;33m:\u001b[0m\u001b[1;33m\u001b[0m\u001b[0m\n\u001b[1;32m     11\u001b[0m                         \u001b[0mparam_type\u001b[0m\u001b[1;33m=\u001b[0m\u001b[0mparam_type\u001b[0m \u001b[1;33m+\u001b[0m \u001b[1;34m' '\u001b[0m \u001b[1;33m+\u001b[0m \u001b[0mdf\u001b[0m\u001b[1;33m.\u001b[0m\u001b[0mcolumns\u001b[0m\u001b[1;33m[\u001b[0m\u001b[0mj\u001b[0m\u001b[1;33m]\u001b[0m\u001b[1;33m\u001b[0m\u001b[0m\n\u001b[0;32m---> 12\u001b[0;31m         \u001b[0mcursor\u001b[0m\u001b[1;33m.\u001b[0m\u001b[0mexecute\u001b[0m\u001b[1;33m(\u001b[0m\u001b[1;34m\"UPDATE [TASMC_ICU_Intensix].[dbo].[Signals] SET Param_Type = ? WHERE [TASMC_ICU_Intensix].[dbo].[Signals].[Time] = ? AND PatientID = ?\"\u001b[0m\u001b[1;33m,\u001b[0m\u001b[1;33m(\u001b[0m\u001b[0mparam_type\u001b[0m\u001b[1;33m,\u001b[0m\u001b[0mdf\u001b[0m\u001b[1;33m.\u001b[0m\u001b[0mix\u001b[0m\u001b[1;33m[\u001b[0m\u001b[0mi\u001b[0m\u001b[1;33m,\u001b[0m\u001b[1;34m'Time'\u001b[0m\u001b[1;33m]\u001b[0m\u001b[1;33m,\u001b[0m\u001b[0mint\u001b[0m\u001b[1;33m(\u001b[0m\u001b[0mdf\u001b[0m\u001b[1;33m.\u001b[0m\u001b[0mix\u001b[0m\u001b[1;33m[\u001b[0m\u001b[0mi\u001b[0m\u001b[1;33m,\u001b[0m\u001b[1;34m'PatientID'\u001b[0m\u001b[1;33m]\u001b[0m\u001b[1;33m)\u001b[0m\u001b[1;33m)\u001b[0m\u001b[1;33m)\u001b[0m\u001b[1;33m;\u001b[0m\u001b[1;33m\u001b[0m\u001b[0m\n\u001b[0m\u001b[1;32m     13\u001b[0m         \u001b[0mcon\u001b[0m\u001b[1;33m.\u001b[0m\u001b[0mcommit\u001b[0m\u001b[1;33m(\u001b[0m\u001b[1;33m)\u001b[0m\u001b[1;33m\u001b[0m\u001b[0m\n\u001b[1;32m     14\u001b[0m \u001b[1;33m\u001b[0m\u001b[0m\n",
      "\u001b[0;31mProgrammingError\u001b[0m: ('42000', \"[42000] [Microsoft][ODBC SQL Server Driver][SQL Server]Could not allocate space for object 'dbo.Signals'.'ParamTypeInd' in database 'TASMC_ICU_Intensix' because the 'PRIMARY' filegroup is full. Create disk space by deleting unneeded files, dropping objects in the filegroup, adding additional files to the filegroup, or setting autogrowth on for existing files in the filegroup. (1105) (SQLExecDirectW)\")"
     ]
    }
   ],
   "source": [
    "for p in range(len(patients.index)):\n",
    "    sql = \"SELECT [PatientID],[Time] \\\n",
    "    ,MAX( CASE WHEN [ParameterID] in ('4704', \\\n",
    "                                       '6636', \\\n",
    "                                       '6637', \\\n",
    "                                       '7719', \\\n",
    "                                       '8417', \\\n",
    "                                       '8719', \\\n",
    "                                       '8720', \\\n",
    "                                       '9630', \\\n",
    "                                       '10997') THEN [Value] ELSE NULL END) HR \\\n",
    "    ,MAX( CASE WHEN [ParameterID] in ('11069', \\\n",
    "                                      '11086', \\\n",
    "                                      '11070', \\\n",
    "                                      '6687', \\\n",
    "                                      '6688', \\\n",
    "                                      '6695', \\\n",
    "                                      '6696', \\\n",
    "                                      '7165') THEN [Value]  ELSE NULL END) Pulse \\\n",
    "    ,MAX( CASE WHEN [ParameterID] in ('4727', \\\n",
    "                                      '6627', \\\n",
    "                                      '6628', \\\n",
    "                                      '9228', \\\n",
    "                                      '9229', \\\n",
    "                                      '9231', \\\n",
    "                                      '9433', \\\n",
    "                                      '9434', \\\n",
    "                                      '9474') THEN [Value]  ELSE NULL END) ArtBPS \\\n",
    "    ,MAX( CASE WHEN [ParameterID] in ('5433', \\\n",
    "                                      '9472', \\\n",
    "                                      '10825', \\\n",
    "                                      '10999', \\\n",
    "                                      '11084') THEN [Value]  ELSE NULL END) ArtBPM \\\n",
    "    ,MAX( CASE WHEN [ParameterID] in ('4721', \\\n",
    "                                      '5532', \\\n",
    "                                      '5644', \\\n",
    "                                      '5945', \\\n",
    "                                      '5952', \\\n",
    "                                      '6380', \\\n",
    "                                      '7104') THEN [Value]  ELSE NULL END) CVP \\\n",
    "    ,MAX( CASE WHEN [ParameterID] in ('11079') THEN [Value] ELSE NULL END) PPV \\\n",
    "    ,MAX( CASE WHEN [ParameterID] in ('9014') THEN [Value] ELSE NULL END) SPV \\\n",
    "    ,MAX( CASE WHEN [ParameterID] in ('7170') THEN [Value] ELSE NULL END) SVV \\\n",
    "    ,MAX( CASE WHEN [ParameterID] in ('6173','10826') THEN [Value] ELSE NULL END)  NiBPM \\\n",
    "    ,MAX( CASE WHEN [ParameterID] in ('4717','9649') THEN [Value] ELSE NULL END) PAPD \\\n",
    "    ,MAX( CASE WHEN [ParameterID] in ('8364', \\\n",
    "                                      '8365', \\\n",
    "                                      '8605', \\\n",
    "                                      '8606', \\\n",
    "                                      '8607') THEN [Value] ELSE NULL END) BIS \\\n",
    "    ,MAX( CASE WHEN [ParameterID] in ('4612','11017') THEN [Value]  ELSE NULL END ) RR_total \\\n",
    "    ,MAX( CASE WHEN [ParameterID] in ('7295','11016') THEN [Value]  ELSE NULL END ) RR_mandatory \\\n",
    "    ,MAX( CASE WHEN [ParameterID] in ('4631') THEN [Value]  ELSE NULL END ) Spo2 \\\n",
    "    ,MAX( CASE WHEN [ParameterID] in ('4960') THEN [Value]  ELSE NULL END ) ST1 \\\n",
    "    ,MAX( CASE WHEN [ParameterID] in ('4961') THEN [Value]  ELSE NULL END ) ST2 \\\n",
    "    ,MAX( CASE WHEN [ParameterID] in ('4962') THEN [Value]  ELSE NULL END ) ST3 \\\n",
    "    ,MAX( CASE WHEN [ParameterID] in ('4611') THEN [Value]  ELSE NULL END ) Fio2 \\\n",
    "    ,MAX( CASE WHEN [ParameterID] in ('7254') THEN [Value]  ELSE NULL END ) Temperature \\\n",
    "    ,MAX( CASE WHEN [ParameterID] in ('5596') THEN [Value]  ELSE NULL END ) Haemaglobin \\\n",
    "    ,MAX( CASE WHEN [ParameterID] in ('7467') THEN [Value]  ELSE NULL END ) Platelets \\\n",
    "    ,MAX( CASE WHEN [ParameterID] in ('6478') THEN [Value]  ELSE NULL END ) Urea \\\n",
    "    ,MAX( CASE WHEN [ParameterID] in ('7465') THEN [Value]  ELSE NULL END ) WBC \\\n",
    "    ,MAX( CASE WHEN [ParameterID] in ('6472') THEN [Value]  ELSE NULL END ) Neutrophils \\\n",
    "    ,MAX( CASE WHEN [ParameterID] in ('10070') THEN [Value]  ELSE NULL END ) Signal_strength \\\n",
    "    ,MAX( CASE WHEN [ParameterID] in ('6469') THEN [Value]  ELSE NULL END ) Lymphocytes \\\n",
    "    ,MAX( CASE WHEN [ParameterID] in ('6458') THEN [Value]  ELSE NULL END ) Eosinphils \\\n",
    "    ,MAX( CASE WHEN [ParameterID] in ('7399') THEN [Value]  ELSE NULL END ) INR \\\n",
    "    ,MAX( CASE WHEN [ParameterID] in ('4620') THEN [Value]  ELSE NULL END ) PaO2 \\\n",
    "    ,MAX( CASE WHEN [ParameterID] in ('5648') THEN [Value]  ELSE NULL END ) Weight_Actual_kg \\\n",
    "    ,MAX( CASE WHEN [ParameterID] in ('6531') THEN [Value]  ELSE NULL END ) Total_Cholesterol \\\n",
    "    FROM  [TASMC_ICU_Intensix].[dbo].[Signals] \\\n",
    "    WHERE  [TASMC_ICU_Intensix].[dbo].[Signals].[PatientID] = %s\\\n",
    "    GROUP BY [PatientID], [Time] \\\n",
    "    ORDER BY [Time];\" %patients.ix[p,'PatientID']\n",
    "    \n",
    "    df=pd.read_sql(sql, con)\n",
    "    \n",
    "    for i in range(len(df.index)):\n",
    "        param_type=''\n",
    "        for j in range(2,len(df.columns)):\n",
    "            if df.ix[i,j] is not None:\n",
    "                if not math.isnan(df.ix[i,j]):\n",
    "                        param_type=param_type + ' ' + df.columns[j]\n",
    "        cursor.execute(\"UPDATE [TASMC_ICU_Intensix].[dbo].[Signals] SET Param_Type = ? WHERE [TASMC_ICU_Intensix].[dbo].[Signals].[Time] = ? AND PatientID = ?\",(param_type,df.ix[i,'Time'],int(df.ix[i,'PatientID'])));\n",
    "        con.commit()\n",
    "    "
   ]
  },
  {
   "cell_type": "code",
   "execution_count": 95,
   "metadata": {
    "collapsed": false
   },
   "outputs": [
    {
     "data": {
      "text/plain": [
       "20174"
      ]
     },
     "execution_count": 95,
     "metadata": {},
     "output_type": "execute_result"
    }
   ],
   "source": [
    "\n",
    "    "
   ]
  },
  {
   "cell_type": "code",
   "execution_count": null,
   "metadata": {
    "collapsed": false
   },
   "outputs": [],
   "source": []
  },
  {
   "cell_type": "code",
   "execution_count": 56,
   "metadata": {
    "collapsed": false
   },
   "outputs": [],
   "source": [
    "dtest=df[(df.ArtBPM<50) & (df.CVP<5) & (df.CVP>-10)]\n"
   ]
  },
  {
   "cell_type": "code",
   "execution_count": null,
   "metadata": {
    "collapsed": false
   },
   "outputs": [],
   "source": []
  },
  {
   "cell_type": "code",
   "execution_count": 503,
   "metadata": {
    "collapsed": false
   },
   "outputs": [],
   "source": [
    "\n",
    "\n",
    "\n",
    "\n",
    "                "
   ]
  },
  {
   "cell_type": "code",
   "execution_count": 379,
   "metadata": {
    "collapsed": false
   },
   "outputs": [
    {
     "ename": "SyntaxError",
     "evalue": "unexpected EOF while parsing (<ipython-input-379-8cf74795cc88>, line 7)",
     "output_type": "error",
     "traceback": [
      "\u001b[0;36m  File \u001b[0;32m\"<ipython-input-379-8cf74795cc88>\"\u001b[0;36m, line \u001b[0;32m7\u001b[0m\n\u001b[0;31m    if (t2-t1).total_seconds()==60.0 and (t3-t2).total_seconds()==60.0:\u001b[0m\n\u001b[0m                                                                       ^\u001b[0m\n\u001b[0;31mSyntaxError\u001b[0m\u001b[0;31m:\u001b[0m unexpected EOF while parsing\n"
     ]
    }
   ],
   "source": [
    "for i in range(len(df.index)):\n",
    "    t1=df.ix[i-2,'Time'].to_pydatetime()\n",
    "    t2=df.ix[i-1,'Time'].to_pydatetime()\n",
    "    t3=df.ix[i,'Time'].to_pydatetime()\n",
    "    delta1 = t2-t1\n",
    "    delta2 = t3-t2\n",
    "    if (t2-t1).total_seconds()==60.0 and (t3-t2).total_seconds()==60.0:"
   ]
  },
  {
   "cell_type": "code",
   "execution_count": null,
   "metadata": {
    "collapsed": true
   },
   "outputs": [],
   "source": []
  }
 ],
 "metadata": {
  "anaconda-cloud": {},
  "kernelspec": {
   "display_name": "Python [default]",
   "language": "python",
   "name": "python3"
  },
  "language_info": {
   "codemirror_mode": {
    "name": "ipython",
    "version": 3
   },
   "file_extension": ".py",
   "mimetype": "text/x-python",
   "name": "python",
   "nbconvert_exporter": "python",
   "pygments_lexer": "ipython3",
   "version": "3.5.2"
  }
 },
 "nbformat": 4,
 "nbformat_minor": 1
}
